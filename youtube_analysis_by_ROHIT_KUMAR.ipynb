{
 "cells": [
  {
   "cell_type": "markdown",
   "id": "a1423f85",
   "metadata": {},
   "source": [
    "## YouTube Channel Analyzer"
   ]
  },
  {
   "cell_type": "code",
   "execution_count": 50,
   "id": "3cb28e34-dbb8-4475-b592-400f7a423f84",
   "metadata": {},
   "outputs": [
    {
     "data": {
      "text/plain": [
       "True"
      ]
     },
     "execution_count": 50,
     "metadata": {},
     "output_type": "execute_result"
    }
   ],
   "source": [
    "# importing required library\n",
    "import pandas as pd\n",
    "import os\n",
    "from datetime import datetime\n",
    "from dotenv import load_dotenv\n",
    "load_dotenv()"
   ]
  },
  {
   "cell_type": "code",
   "execution_count": 51,
   "id": "1710e72e-498e-466c-8154-eda1d6756fcb",
   "metadata": {},
   "outputs": [],
   "source": [
    "# reading given file\n",
    "input_file_name = \"youtube_channels_sample - Youtube.csv\"\n",
    "input_file_path = os.path.join(os.getcwd(),input_file_name)\n",
    "\n",
    "# creating dataframe\n",
    "df = pd.read_csv(input_file_path)"
   ]
  },
  {
   "cell_type": "code",
   "execution_count": 52,
   "id": "fe57ecf2-7bb0-4fa6-9af6-8f7fad638378",
   "metadata": {},
   "outputs": [
    {
     "data": {
      "text/html": [
       "<div>\n",
       "<style scoped>\n",
       "    .dataframe tbody tr th:only-of-type {\n",
       "        vertical-align: middle;\n",
       "    }\n",
       "\n",
       "    .dataframe tbody tr th {\n",
       "        vertical-align: top;\n",
       "    }\n",
       "\n",
       "    .dataframe thead th {\n",
       "        text-align: right;\n",
       "    }\n",
       "</style>\n",
       "<table border=\"1\" class=\"dataframe\">\n",
       "  <thead>\n",
       "    <tr style=\"text-align: right;\">\n",
       "      <th></th>\n",
       "      <th>Youtube Profiles</th>\n",
       "    </tr>\n",
       "  </thead>\n",
       "  <tbody>\n",
       "    <tr>\n",
       "      <th>0</th>\n",
       "      <td>Spreading Gyan</td>\n",
       "    </tr>\n",
       "    <tr>\n",
       "      <th>1</th>\n",
       "      <td>We Make Creators</td>\n",
       "    </tr>\n",
       "    <tr>\n",
       "      <th>2</th>\n",
       "      <td>Manoj Dey</td>\n",
       "    </tr>\n",
       "    <tr>\n",
       "      <th>3</th>\n",
       "      <td>Skillsiya</td>\n",
       "    </tr>\n",
       "    <tr>\n",
       "      <th>4</th>\n",
       "      <td>Learn With Lokesh Lalwani</td>\n",
       "    </tr>\n",
       "  </tbody>\n",
       "</table>\n",
       "</div>"
      ],
      "text/plain": [
       "            Youtube Profiles\n",
       "0             Spreading Gyan\n",
       "1           We Make Creators\n",
       "2                  Manoj Dey\n",
       "3                  Skillsiya\n",
       "4  Learn With Lokesh Lalwani"
      ]
     },
     "execution_count": 52,
     "metadata": {},
     "output_type": "execute_result"
    }
   ],
   "source": [
    "# visualizing given data\n",
    "df.head()\n",
    "# outcome: The given data is YouTube channel names"
   ]
  },
  {
   "cell_type": "code",
   "execution_count": 53,
   "id": "2be6c36f-62a3-406c-a5cb-35f983f69ecd",
   "metadata": {
    "editable": true,
    "slideshow": {
     "slide_type": ""
    },
    "tags": []
   },
   "outputs": [
    {
     "name": "stdout",
     "output_type": "stream",
     "text": [
      "Youtube Profiles    0\n",
      "dtype: int64\n",
      "Youtube Profiles    0\n",
      "dtype: int64\n",
      "(20, 1)\n"
     ]
    }
   ],
   "source": [
    "# checking for valid records\n",
    "print(df.isna().sum())\n",
    "print(df.isnull().sum())\n",
    "print(df.shape)\n",
    "# outcome: Given 20 channel names"
   ]
  },
  {
   "cell_type": "code",
   "execution_count": 54,
   "id": "89a95953-f2e4-428d-87d9-a9546d41186b",
   "metadata": {},
   "outputs": [
    {
     "name": "stdout",
     "output_type": "stream",
     "text": [
      "['Spreading Gyan', 'We Make Creators', 'Manoj Dey', 'Skillsiya', 'Learn With Lokesh Lalwani', 'Upcoming World\\r', 'SJ SEARCHING', 'SOCIALEPFO', 'Sarkari DNA', 'WorkerVoice.in', 'Anurag Aggarwal: Business Coach', 'CA Rahul Malodia: Business Coach', 'Dr. Ujjwal Patni Business Coach', 'Biz Tak', 'CA Rachana Phadke Ranade', 'NDTV Profit', 'bekifaayati', 'Money9', 'Invest Aaj For Kal', 'Dear Sir']\n"
     ]
    }
   ],
   "source": [
    "# converting dataframe to list\n",
    "channel_names = df[\"Youtube Profiles\"].to_list()\n",
    "print(channel_names)"
   ]
  },
  {
   "cell_type": "code",
   "execution_count": null,
   "id": "77f1d202-57ef-4da5-b3b6-c0bb29d0f603",
   "metadata": {},
   "outputs": [],
   "source": [
    "# configurations for API (using YouTube Data API to get data)\n",
    "# reading API KEY (MY_YOUTUBE_API_KEY) from .env file\n",
    "import googleapiclient.discovery\n",
    "api_service_name = \"youtube\"\n",
    "api_version = \"v3\"\n",
    "DEVELOPER_KEY = os.getenv(\"MY_YOUTUBE_API_KEY\")\n",
    "youtube = googleapiclient.discovery.build(api_service_name, api_version, developerKey = DEVELOPER_KEY)"
   ]
  },
  {
   "cell_type": "code",
   "execution_count": 56,
   "id": "7247877a",
   "metadata": {},
   "outputs": [],
   "source": [
    "# function to get channel IDs by name\n",
    "def get_channel_id(name):\n",
    "    request = youtube.search().list(\n",
    "        part=\"snippet\",\n",
    "        maxResults=1,\n",
    "        q = name,\n",
    "        type=\"channel\"\n",
    "    )\n",
    "    response = request.execute()\n",
    "    return response[\"items\"][0][\"snippet\"][\"channelId\"]"
   ]
  },
  {
   "cell_type": "code",
   "execution_count": 57,
   "id": "4a991827",
   "metadata": {},
   "outputs": [],
   "source": [
    "# making list of channel IDs \n",
    "channel_ids = [get_channel_id(name) for name in channel_names]"
   ]
  },
  {
   "cell_type": "code",
   "execution_count": 58,
   "id": "a96183de",
   "metadata": {},
   "outputs": [
    {
     "name": "stdout",
     "output_type": "stream",
     "text": [
      "['UCZDCqcWZVNyvTSsoc-chKJg', 'UCr6hHjMNvgQxErQ1ZJV4drw', 'UCT2xzagsBVtStUCA2ulvKmQ', 'UCsQ6_w5iUOUOMAUPclg2kcg', 'UCFAr3FQxRhSzVNOD3vq1gMQ', 'UC2gdXA4n6_yEHos7CyQk7rA', 'UC2zYoCWdj3qLtAspeirqWUQ', 'UClmVVcYuH0ZPm3qsPm1TQIg', 'UCtsetVYMkX8iPFS2oUOcXEw', 'UCfj7SPM25A3RQSYE1YFPyVQ', 'UCBM6AwaDl8uPVAN_BUIqPUw', 'UCPgfM-dk3XAb4T3DtT6Nwsw', 'UCqXCX2DnQZh8e4VNT7MPTtA', 'UCSWSOS6YXUbNMzTH-tV7Pfw', 'UCe3qdG0A_gr-sEdat5y2twQ', 'UC3uJIdRFTGgLWrUziaHbzrg', 'UCdvOCtR3a9ICLAw0DD3DpXg', 'UCdYV_l-cgsMRHZvp0zkmujg', 'UCWHCXSKASuSzao_pplQ7SPw', 'UC9dyrsYEmD4iGJ8Oz1G5dpw']\n"
     ]
    }
   ],
   "source": [
    "print(channel_ids)"
   ]
  },
  {
   "cell_type": "code",
   "execution_count": 59,
   "id": "a832524e",
   "metadata": {},
   "outputs": [],
   "source": [
    "# function to get channel stats\n",
    "def get_channel_stats(id):\n",
    "    request = youtube.channels().list(\n",
    "        part=\"snippet,statistics,contentDetails\",\n",
    "        id = id\n",
    "    )\n",
    "    response = request.execute()\n",
    "    row = {\n",
    "        \"title\": response[\"items\"][0][\"snippet\"][\"title\"],\n",
    "        \"channelId\": id,\n",
    "        \"publishedAt\": response[\"items\"][0][\"snippet\"][\"publishedAt\"],\n",
    "        \"viewCount\": int(response[\"items\"][0][\"statistics\"][\"viewCount\"]),\n",
    "        \"subscriberCount\": int(response[\"items\"][0][\"statistics\"][\"subscriberCount\"]),\n",
    "        \"videoCount\": int(response[\"items\"][0][\"statistics\"][\"videoCount\"]),\n",
    "        \"uploadsPlaylistId\": response[\"items\"][0][\"contentDetails\"][\"relatedPlaylists\"][\"uploads\"]\n",
    "    }\n",
    "    return row"
   ]
  },
  {
   "cell_type": "code",
   "execution_count": 60,
   "id": "cfa6dc2f",
   "metadata": {},
   "outputs": [],
   "source": [
    "# getting stats data and setting up\n",
    "channel_data = { id: get_channel_stats(id) for id in channel_ids }\n",
    "channel_data = { index: item for index,item in enumerate(channel_data.values()) }"
   ]
  },
  {
   "cell_type": "code",
   "execution_count": 61,
   "id": "0af40553",
   "metadata": {
    "scrolled": true
   },
   "outputs": [
    {
     "name": "stdout",
     "output_type": "stream",
     "text": [
      "{0: {'title': 'Spreading Gyan', 'channelId': 'UCZDCqcWZVNyvTSsoc-chKJg', 'publishedAt': '2019-11-13T18:35:26.321751Z', 'viewCount': 335350998, 'subscriberCount': 4480000, 'videoCount': 335, 'uploadsPlaylistId': 'UUZDCqcWZVNyvTSsoc-chKJg'}, 1: {'title': 'We Make Creators', 'channelId': 'UCr6hHjMNvgQxErQ1ZJV4drw', 'publishedAt': '2018-02-11T20:07:40Z', 'viewCount': 128358844, 'subscriberCount': 1130000, 'videoCount': 1413, 'uploadsPlaylistId': 'UUr6hHjMNvgQxErQ1ZJV4drw'}, 2: {'title': 'Manoj Dey', 'channelId': 'UCT2xzagsBVtStUCA2ulvKmQ', 'publishedAt': '2016-11-24T14:48:33Z', 'viewCount': 1001951068, 'subscriberCount': 7010000, 'videoCount': 1728, 'uploadsPlaylistId': 'UUT2xzagsBVtStUCA2ulvKmQ'}, 3: {'title': 'Skillsiya', 'channelId': 'UCsQ6_w5iUOUOMAUPclg2kcg', 'publishedAt': '2019-11-25T16:38:02.828954Z', 'viewCount': 69710221, 'subscriberCount': 970000, 'videoCount': 306, 'uploadsPlaylistId': 'UUsQ6_w5iUOUOMAUPclg2kcg'}, 4: {'title': 'Learn With Lokesh Lalwani', 'channelId': 'UCFAr3FQxRhSzVNOD3vq1gMQ', 'publishedAt': '2018-11-20T08:41:32Z', 'viewCount': 59583787, 'subscriberCount': 1320000, 'videoCount': 444, 'uploadsPlaylistId': 'UUFAr3FQxRhSzVNOD3vq1gMQ'}, 5: {'title': 'Upcoming World', 'channelId': 'UC2gdXA4n6_yEHos7CyQk7rA', 'publishedAt': '2011-07-22T12:49:54Z', 'viewCount': 312960790, 'subscriberCount': 1500000, 'videoCount': 1269, 'uploadsPlaylistId': 'UU2gdXA4n6_yEHos7CyQk7rA'}, 6: {'title': 'SJ SEARCHING', 'channelId': 'UC2zYoCWdj3qLtAspeirqWUQ', 'publishedAt': '2019-08-16T19:03:08Z', 'viewCount': 8071043, 'subscriberCount': 777000, 'videoCount': 341, 'uploadsPlaylistId': 'UU2zYoCWdj3qLtAspeirqWUQ'}, 7: {'title': 'SOCIALEPFO', 'channelId': 'UClmVVcYuH0ZPm3qsPm1TQIg', 'publishedAt': '2019-04-18T05:55:54Z', 'viewCount': 12697734, 'subscriberCount': 1670000, 'videoCount': 683, 'uploadsPlaylistId': 'UUlmVVcYuH0ZPm3qsPm1TQIg'}, 8: {'title': 'Sarkari DNA', 'channelId': 'UCtsetVYMkX8iPFS2oUOcXEw', 'publishedAt': '2019-01-24T07:26:55Z', 'viewCount': 568982218, 'subscriberCount': 3730000, 'videoCount': 1258, 'uploadsPlaylistId': 'UUtsetVYMkX8iPFS2oUOcXEw'}, 9: {'title': 'WorkerVoice.in', 'channelId': 'UCfj7SPM25A3RQSYE1YFPyVQ', 'publishedAt': '2016-02-06T06:18:31Z', 'viewCount': 107504066, 'subscriberCount': 1230000, 'videoCount': 1381, 'uploadsPlaylistId': 'UUfj7SPM25A3RQSYE1YFPyVQ'}, 10: {'title': 'Anurag Aggarwal: Business Coach', 'channelId': 'UCBM6AwaDl8uPVAN_BUIqPUw', 'publishedAt': '2009-09-24T04:14:54Z', 'viewCount': 1973396673, 'subscriberCount': 5240000, 'videoCount': 1398, 'uploadsPlaylistId': 'UUBM6AwaDl8uPVAN_BUIqPUw'}, 11: {'title': 'CA Rahul Malodia: Business Coach', 'channelId': 'UCPgfM-dk3XAb4T3DtT6Nwsw', 'publishedAt': '2019-09-19T05:23:15Z', 'viewCount': 1044360611, 'subscriberCount': 6590000, 'videoCount': 1076, 'uploadsPlaylistId': 'UUPgfM-dk3XAb4T3DtT6Nwsw'}, 12: {'title': 'Dr Ujjwal Patni Business coach', 'channelId': 'UCqXCX2DnQZh8e4VNT7MPTtA', 'publishedAt': '2009-01-23T08:18:55Z', 'viewCount': 473135993, 'subscriberCount': 6760000, 'videoCount': 1207, 'uploadsPlaylistId': 'UUqXCX2DnQZh8e4VNT7MPTtA'}, 13: {'title': 'Biz Tak', 'channelId': 'UCSWSOS6YXUbNMzTH-tV7Pfw', 'publishedAt': '2018-07-23T10:10:20Z', 'viewCount': 948174415, 'subscriberCount': 1960000, 'videoCount': 29546, 'uploadsPlaylistId': 'UUSWSOS6YXUbNMzTH-tV7Pfw'}, 14: {'title': 'CA Rachana Phadke Ranade', 'channelId': 'UCe3qdG0A_gr-sEdat5y2twQ', 'publishedAt': '2009-03-10T11:52:05Z', 'viewCount': 310025611, 'subscriberCount': 5230000, 'videoCount': 1417, 'uploadsPlaylistId': 'UUe3qdG0A_gr-sEdat5y2twQ'}, 15: {'title': 'NDTV Profit', 'channelId': 'UC3uJIdRFTGgLWrUziaHbzrg', 'publishedAt': '2016-05-30T14:17:00Z', 'viewCount': 374302739, 'subscriberCount': 1250000, 'videoCount': 45513, 'uploadsPlaylistId': 'UU3uJIdRFTGgLWrUziaHbzrg'}, 16: {'title': 'bekifaayati', 'channelId': 'UCdvOCtR3a9ICLAw0DD3DpXg', 'publishedAt': '2021-03-31T05:32:34.901869Z', 'viewCount': 549948196, 'subscriberCount': 1870000, 'videoCount': 903, 'uploadsPlaylistId': 'UUdvOCtR3a9ICLAw0DD3DpXg'}, 17: {'title': 'Money9', 'channelId': 'UCdYV_l-cgsMRHZvp0zkmujg', 'publishedAt': '2021-01-21T12:26:35.055718Z', 'viewCount': 205920036, 'subscriberCount': 1790000, 'videoCount': 23143, 'uploadsPlaylistId': 'UUdYV_l-cgsMRHZvp0zkmujg'}, 18: {'title': 'Invest Aaj For Kal', 'channelId': 'UCWHCXSKASuSzao_pplQ7SPw', 'publishedAt': '2013-08-14T08:15:06Z', 'viewCount': 709634335, 'subscriberCount': 3010000, 'videoCount': 2952, 'uploadsPlaylistId': 'UUWHCXSKASuSzao_pplQ7SPw'}, 19: {'title': 'Dear Sir', 'channelId': 'UC9dyrsYEmD4iGJ8Oz1G5dpw', 'publishedAt': '2016-12-13T08:13:06Z', 'viewCount': 2027000807, 'subscriberCount': 20300000, 'videoCount': 1093, 'uploadsPlaylistId': 'UU9dyrsYEmD4iGJ8Oz1G5dpw'}}\n"
     ]
    }
   ],
   "source": [
    "print(channel_data)"
   ]
  },
  {
   "cell_type": "code",
   "execution_count": 62,
   "id": "d13710e3",
   "metadata": {},
   "outputs": [],
   "source": [
    "# function to get all videos IDs of each channel (limit 10, low due to free tier API)\n",
    "# As we now to get better quality analysis we need to extract large number of data but due to free API limitations I set limit to 5 video/channel\n",
    "def get_channel_videos_id(uploadsPlaylistId, limit=10):\n",
    "    request = youtube.playlistItems().list(\n",
    "        part=\"contentDetails\",\n",
    "        maxResults = limit,\n",
    "        playlistId = uploadsPlaylistId\n",
    "    )\n",
    "    response = request.execute()\n",
    "    return [ response[\"items\"][i][\"contentDetails\"][\"videoId\"] for i in range(limit) ]"
   ]
  },
  {
   "cell_type": "code",
   "execution_count": 63,
   "id": "06f2c4e7",
   "metadata": {},
   "outputs": [],
   "source": [
    "# getting list of all videos IDs\n",
    "for v in channel_data.values():\n",
    "    v[\"allVideoIds\"] = get_channel_videos_id(v[\"uploadsPlaylistId\"])"
   ]
  },
  {
   "cell_type": "code",
   "execution_count": 64,
   "id": "cac18e5f",
   "metadata": {
    "scrolled": true
   },
   "outputs": [
    {
     "name": "stdout",
     "output_type": "stream",
     "text": [
      "{0: {'title': 'Spreading Gyan', 'channelId': 'UCZDCqcWZVNyvTSsoc-chKJg', 'publishedAt': '2019-11-13T18:35:26.321751Z', 'viewCount': 335350998, 'subscriberCount': 4480000, 'videoCount': 335, 'uploadsPlaylistId': 'UUZDCqcWZVNyvTSsoc-chKJg', 'allVideoIds': ['TUBCGv9rTD8', 'HtfUJXIEr28', 'UQVH8WRQKFM', 'FXrb7KCUNJ4', 'OiFy2c20l3w', 'diNL6upmuv0', 'NxVEG-zRwbI', 't6Y2JhttXgU', 'LeGgqJZj2Bo', 'tmN3wYRBlS8']}, 1: {'title': 'We Make Creators', 'channelId': 'UCr6hHjMNvgQxErQ1ZJV4drw', 'publishedAt': '2018-02-11T20:07:40Z', 'viewCount': 128358844, 'subscriberCount': 1130000, 'videoCount': 1413, 'uploadsPlaylistId': 'UUr6hHjMNvgQxErQ1ZJV4drw', 'allVideoIds': ['XB_jrIAG8qQ', 'gGhbPlIf37c', 'Drzg8ZPGb2A', '_MkTNur3fxM', 'S3qGz3KcMm8', 'T8_7xaJqFgQ', 'fQjZwItB_N4', 'ci4viuQSb1c', '330ynLHYi18', 'HVPkIs8MLXg']}, 2: {'title': 'Manoj Dey', 'channelId': 'UCT2xzagsBVtStUCA2ulvKmQ', 'publishedAt': '2016-11-24T14:48:33Z', 'viewCount': 1001951068, 'subscriberCount': 7010000, 'videoCount': 1728, 'uploadsPlaylistId': 'UUT2xzagsBVtStUCA2ulvKmQ', 'allVideoIds': ['2yCgzKUs1Bs', 'NiUHMlPsE6U', '2eTl-1dAhvE', 'OEKyxgfjCbg', 'NSm3bFUdWgo', '1akMONBEdJQ', 'ZVFuoV9_GGE', 'Fv4VAxYAHOE', '901fa6LD-gk', 'vWhME-GC6wg']}, 3: {'title': 'Skillsiya', 'channelId': 'UCsQ6_w5iUOUOMAUPclg2kcg', 'publishedAt': '2019-11-25T16:38:02.828954Z', 'viewCount': 69710221, 'subscriberCount': 970000, 'videoCount': 306, 'uploadsPlaylistId': 'UUsQ6_w5iUOUOMAUPclg2kcg', 'allVideoIds': ['9GdbzEHg-t4', 'sSPjtEyDQEU', 'KwF0T5pI3Ig', 'nXpBHLB6sb8', 'jX4zf1MBYUI', '88a9PFQDDqY', 'Tf8UnoMOrc0', 'yC6oct0zuVE', 'O_Ne1mMbQx0', 'KP8KGc8YbjM']}, 4: {'title': 'Learn With Lokesh Lalwani', 'channelId': 'UCFAr3FQxRhSzVNOD3vq1gMQ', 'publishedAt': '2018-11-20T08:41:32Z', 'viewCount': 59583787, 'subscriberCount': 1320000, 'videoCount': 444, 'uploadsPlaylistId': 'UUFAr3FQxRhSzVNOD3vq1gMQ', 'allVideoIds': ['b50DwI0VMwQ', 'jGXXtT2Fgiw', 'fbeFNqm3IgM', '-a1lucYtUC0', '9P3YT9LQ8jc', 'DtYMVUgeWf4', '018-58l1bdc', '1K8oAL6OCt0', 'WH-yQSyVIB0', 'zqko2sgskTc']}, 5: {'title': 'Upcoming World', 'channelId': 'UC2gdXA4n6_yEHos7CyQk7rA', 'publishedAt': '2011-07-22T12:49:54Z', 'viewCount': 312960790, 'subscriberCount': 1500000, 'videoCount': 1269, 'uploadsPlaylistId': 'UU2gdXA4n6_yEHos7CyQk7rA', 'allVideoIds': ['musdwLh9GcY', 'dkC6sJZcTEA', 'JsVW9SYoeb4', 'ulUK5JdqtvY', '-RGu1XXYj9g', 'jaS10J9BeKE', 'FA_LQigJ6M8', 'yKL3thGNd-8', 'elh8MetWbFM', '3R9_GY5l3yw']}, 6: {'title': 'SJ SEARCHING', 'channelId': 'UC2zYoCWdj3qLtAspeirqWUQ', 'publishedAt': '2019-08-16T19:03:08Z', 'viewCount': 8071043, 'subscriberCount': 777000, 'videoCount': 341, 'uploadsPlaylistId': 'UU2zYoCWdj3qLtAspeirqWUQ', 'allVideoIds': ['zi2xFCq0BGg', 'Xc8C4AT98kA', 'noplSk1zQTo', '7_zPY_0PjYI', 'v1Y1q1ZQd7w', 'Ru0rj0peeOY', 'rGIvuzrqF1s', 'rrx4O3DbcZQ', '2MvxCEV6gbI', 'Vs-pSMd7VOY']}, 7: {'title': 'SOCIALEPFO', 'channelId': 'UClmVVcYuH0ZPm3qsPm1TQIg', 'publishedAt': '2019-04-18T05:55:54Z', 'viewCount': 12697734, 'subscriberCount': 1670000, 'videoCount': 683, 'uploadsPlaylistId': 'UUlmVVcYuH0ZPm3qsPm1TQIg', 'allVideoIds': ['LOh2CqnCQlI', 'rkS-OJ1PqT0', 'YvqF4dk0a6E', 'kkj9kuJCI-Y', 'F8bjll9MrC0', 'JhcofQndld4', 'hwC3YPMY_LM', 'OJNikqor1qo', 'wBQr0N5dbtA', 'YUDLkRs_vw4']}, 8: {'title': 'Sarkari DNA', 'channelId': 'UCtsetVYMkX8iPFS2oUOcXEw', 'publishedAt': '2019-01-24T07:26:55Z', 'viewCount': 568982218, 'subscriberCount': 3730000, 'videoCount': 1258, 'uploadsPlaylistId': 'UUtsetVYMkX8iPFS2oUOcXEw', 'allVideoIds': ['w0In7nROznM', 'DAdK7ICSnn4', 'CZ_B8Z9bqVA', 'q0yu4jrYHG8', 'VhdfrrDwBJc', '657LCOpUPfQ', 'XjxoFciolos', 'fj6qq30rFYU', 'q8oNUZzb3wc', 'c49o9aETa8U']}, 9: {'title': 'WorkerVoice.in', 'channelId': 'UCfj7SPM25A3RQSYE1YFPyVQ', 'publishedAt': '2016-02-06T06:18:31Z', 'viewCount': 107504066, 'subscriberCount': 1230000, 'videoCount': 1381, 'uploadsPlaylistId': 'UUfj7SPM25A3RQSYE1YFPyVQ', 'allVideoIds': ['w243MfNc_7U', '43oBySFVp68', 'KdeyyPdOyOw', 'tS0lNH3Vytc', 'bi4zCyDZ7vo', 'tZaH8BTOdTY', 'Y1Yj4XL49fw', '4kw7v8GNHCo', 'VbAdv59DB1s', 'Mq0a9GCoEmg']}, 10: {'title': 'Anurag Aggarwal: Business Coach', 'channelId': 'UCBM6AwaDl8uPVAN_BUIqPUw', 'publishedAt': '2009-09-24T04:14:54Z', 'viewCount': 1973396673, 'subscriberCount': 5240000, 'videoCount': 1398, 'uploadsPlaylistId': 'UUBM6AwaDl8uPVAN_BUIqPUw', 'allVideoIds': ['9XiMJr6MNGA', 'G--fakz8uWY', 'Ab2oxZ-Xv6s', 'Dy3VDwVGS9o', 'qPu4k3Xd7Ew', 'E8BdOJB6OvA', 'iwOd5LDziJI', 'IcsOLsiC1JE', 'G_qA0pN7KKg', '6Tb9yWMebcU']}, 11: {'title': 'CA Rahul Malodia: Business Coach', 'channelId': 'UCPgfM-dk3XAb4T3DtT6Nwsw', 'publishedAt': '2019-09-19T05:23:15Z', 'viewCount': 1044360611, 'subscriberCount': 6590000, 'videoCount': 1076, 'uploadsPlaylistId': 'UUPgfM-dk3XAb4T3DtT6Nwsw', 'allVideoIds': ['uak9vqJRDFM', '4o_biM2Yrh4', 'Dx2XJ0j2fgI', 'MuZTGCgAKSY', 'xKQCuLjmcOU', '0Hpb_lrW7P8', 'ta00kffbg40', '5wOyGvIhUGY', '-Aaq7lccHQQ', 'o336jR26ddQ']}, 12: {'title': 'Dr Ujjwal Patni Business coach', 'channelId': 'UCqXCX2DnQZh8e4VNT7MPTtA', 'publishedAt': '2009-01-23T08:18:55Z', 'viewCount': 473135993, 'subscriberCount': 6760000, 'videoCount': 1207, 'uploadsPlaylistId': 'UUqXCX2DnQZh8e4VNT7MPTtA', 'allVideoIds': ['YyMy3YLIz2Q', '_5HdNf3dobA', 'UxcmJ8HuBK0', 'CvjDiMwKRMg', 'kHrHyk9pAj4', '7_uhuAszWkc', '9iDmhWMEOow', 'Jy53MnaPIm4', 'Aqucda7Jfy8', 'q_tSn6JZqy8']}, 13: {'title': 'Biz Tak', 'channelId': 'UCSWSOS6YXUbNMzTH-tV7Pfw', 'publishedAt': '2018-07-23T10:10:20Z', 'viewCount': 948174415, 'subscriberCount': 1960000, 'videoCount': 29546, 'uploadsPlaylistId': 'UUSWSOS6YXUbNMzTH-tV7Pfw', 'allVideoIds': ['5PQxDEIx9y0', '_D_JQdeuNQM', 'a9jY-ZOeKto', 'EDLUKXWwiCo', 'VOd4tBdFsKI', '0ngiPb_TqZs', 'eetw5apBTsQ', 'bzSPIuBgI4k', 'DA2C3S3vFwc', 'mMr1045uXOo']}, 14: {'title': 'CA Rachana Phadke Ranade', 'channelId': 'UCe3qdG0A_gr-sEdat5y2twQ', 'publishedAt': '2009-03-10T11:52:05Z', 'viewCount': 310025611, 'subscriberCount': 5230000, 'videoCount': 1417, 'uploadsPlaylistId': 'UUe3qdG0A_gr-sEdat5y2twQ', 'allVideoIds': ['lDXBEw4kdOg', 'S10Duj4C0Ao', 'hSLb7ENmxBM', 'RTtYJF8bxJk', 'LKnkITlLMwM', 'OT7JLxLsaYs', '7GQcqQLSddo', '3XEQHzxdnVY', 'uuzle9iFj_U', '6hoTvuq5Oss']}, 15: {'title': 'NDTV Profit', 'channelId': 'UC3uJIdRFTGgLWrUziaHbzrg', 'publishedAt': '2016-05-30T14:17:00Z', 'viewCount': 374302739, 'subscriberCount': 1250000, 'videoCount': 45513, 'uploadsPlaylistId': 'UU3uJIdRFTGgLWrUziaHbzrg', 'allVideoIds': ['_IwGuumnxOg', 'q6hcc_1_NZI', 'jPNZoYW_m-U', 'OcbypwHHU0Y', 'lZVpsKZ-WzE', '-cdgIcpnvPM', 'AnaZ6zmi6Q4', 'zWzcAALTdHQ', 'Rk2NzyAarJc', 'KQ0HiK337Z0']}, 16: {'title': 'bekifaayati', 'channelId': 'UCdvOCtR3a9ICLAw0DD3DpXg', 'publishedAt': '2021-03-31T05:32:34.901869Z', 'viewCount': 549948196, 'subscriberCount': 1870000, 'videoCount': 903, 'uploadsPlaylistId': 'UUdvOCtR3a9ICLAw0DD3DpXg', 'allVideoIds': ['h1a0TGidjPo', 'ihq4_A0a79Y', 'B4uexqXscBM', 'Go6oLN8bCX4', 'zkypU-32Aio', 'hwYRy8qC8L0', 'fibg-KD51yQ', 'frG-U_jgv6w', 'aTWLGjHW10A', 'OIpMY9OBZ8k']}, 17: {'title': 'Money9', 'channelId': 'UCdYV_l-cgsMRHZvp0zkmujg', 'publishedAt': '2021-01-21T12:26:35.055718Z', 'viewCount': 205920036, 'subscriberCount': 1790000, 'videoCount': 23143, 'uploadsPlaylistId': 'UUdYV_l-cgsMRHZvp0zkmujg', 'allVideoIds': ['O8qB-nLSMPo', 'fkva-sqdMoc', 'FlZJlk5C1os', 'NwhK_E1qm80', 'npxttJWVZ_Y', 'IxMUDxW2k74', 'Gm_jrRjSHqE', 'WO3nK72oA14', 'GMJAJ--Yegc', 'WOo_YzmnkVk']}, 18: {'title': 'Invest Aaj For Kal', 'channelId': 'UCWHCXSKASuSzao_pplQ7SPw', 'publishedAt': '2013-08-14T08:15:06Z', 'viewCount': 709634335, 'subscriberCount': 3010000, 'videoCount': 2952, 'uploadsPlaylistId': 'UUWHCXSKASuSzao_pplQ7SPw', 'allVideoIds': ['hbKgOK13pz8', 'XAInL7ByCAI', 'YFV6V8AQR10', 'Xu4c6kygxAg', 'JWUBb0-cGcI', 'wfxRUfLf01Q', 'ur73z5VIY-M', 'WmCGtsd4xDg', 'cIVboBIgbMg', 'bmNuRs_v5-o']}, 19: {'title': 'Dear Sir', 'channelId': 'UC9dyrsYEmD4iGJ8Oz1G5dpw', 'publishedAt': '2016-12-13T08:13:06Z', 'viewCount': 2027000807, 'subscriberCount': 20300000, 'videoCount': 1093, 'uploadsPlaylistId': 'UU9dyrsYEmD4iGJ8Oz1G5dpw', 'allVideoIds': ['Jk7ym07RxOE', 'hbQ3N3V1UsI', 'wVmYd03TUao', '4IDUxR-F5Gs', 'UOa0ZpPEe7c', 'y-rvCOLR0hE', 'XibsM44tH7k', 'KyAnm_MzzWU', '12WykXZRrtU', 'YaJ1mLx9zv4']}}\n"
     ]
    }
   ],
   "source": [
    "print(channel_data)"
   ]
  },
  {
   "cell_type": "code",
   "execution_count": 65,
   "id": "cb4403b3",
   "metadata": {},
   "outputs": [],
   "source": [
    "# function to get each video stats\n",
    "def get_video_stats(videoIds):\n",
    "    request = youtube.videos().list(\n",
    "        part=\"snippet,statistics\",\n",
    "        id = \",\".join(videoIds)\n",
    "    )\n",
    "    response = request.execute()\n",
    "    # row = {}\n",
    "    # for i in range(len(videoIds)):\n",
    "    #     row[videoIds[i]] = [\n",
    "    #         response[\"items\"][i][\"snippet\"][\"title\"],\n",
    "    #         response[\"items\"][i][\"statistics\"][\"viewCount\"],\n",
    "    #         response[\"items\"][i][\"statistics\"][\"likeCount\"],\n",
    "    #         response[\"items\"][i][\"statistics\"][\"commentCount\"]\n",
    "    #     ]\n",
    "    # return row\n",
    "\n",
    "    row = {}\n",
    "    for i in range(len(videoIds)):\n",
    "        stats = response[\"items\"][i][\"statistics\"]\n",
    "        row[videoIds[i]] = [\n",
    "            response[\"items\"][i][\"snippet\"][\"title\"],\n",
    "            stats[\"viewCount\"],\n",
    "            stats.get(\"likeCount\", 0),  \n",
    "            stats.get(\"commentCount\", 0) \n",
    "        ]\n",
    "    return row"
   ]
  },
  {
   "cell_type": "code",
   "execution_count": 66,
   "id": "e3d3edbd",
   "metadata": {},
   "outputs": [],
   "source": [
    "# getting each video stats like title, views, comments, like...\n",
    "for v in channel_data.values():\n",
    "    v[\"videosInfo\"] = get_video_stats(v[\"allVideoIds\"])"
   ]
  },
  {
   "cell_type": "code",
   "execution_count": 67,
   "id": "b5d6443c",
   "metadata": {
    "scrolled": true
   },
   "outputs": [
    {
     "name": "stdout",
     "output_type": "stream",
     "text": [
      "{0: {'title': 'Spreading Gyan', 'channelId': 'UCZDCqcWZVNyvTSsoc-chKJg', 'publishedAt': '2019-11-13T18:35:26.321751Z', 'viewCount': 335350998, 'subscriberCount': 4480000, 'videoCount': 335, 'uploadsPlaylistId': 'UUZDCqcWZVNyvTSsoc-chKJg', 'allVideoIds': ['TUBCGv9rTD8', 'HtfUJXIEr28', 'UQVH8WRQKFM', 'FXrb7KCUNJ4', 'OiFy2c20l3w', 'diNL6upmuv0', 'NxVEG-zRwbI', 't6Y2JhttXgU', 'LeGgqJZj2Bo', 'tmN3wYRBlS8'], 'videosInfo': {'TUBCGv9rTD8': ['Youtube Channel Kaise Banaye | youtube channel kaise banaen 2025 | How To Create A Youtube Channel', '393464', '11668', '1300'], 'HtfUJXIEr28': ['🤬 Reply To HATERS', '67827', '4345', '2189'], 'UQVH8WRQKFM': ['सब खत्म 😭 2 Community Guidelines Strike ek sath aaya | Channel Delete हो जाएगा मेरा | Please HELP', '89968', '4201', '1606'], 'FXrb7KCUNJ4': ['🎥 Copyright-Free Shorts से पैसे कैसे कमाएँ? | Reused Content को Monetize करें सही तरीके से!', '110697', '5077', '903'], 'OiFy2c20l3w': ['How To Open Demat Account | How To Open Trading Account | Demat Account Kaise Khole', '47578', '2375', '361'], 'diNL6upmuv0': ['🔴Live Proof 👉1 Views पर  ₹1 😱 Kitne View Par Kitna Paisa Milta Hai #shorts #spreadinggyan #earning', '119506', '7267', '483'], 'NxVEG-zRwbI': ['SUBSCRIBERS की बारिश 😲Shorts का New Channel बनाकर Grow करना है तो ये Trick लगाओ || 7 दिन मे VIRAL', '238768', '8011', '1863'], 't6Y2JhttXgU': ['😱\"पहला Shorts डालते ही आया Growth? 📈 ऐसी Strategy आजमाओ और Channel Grow करो | Spreading Gyan', '127704', '5817', '2114'], 'LeGgqJZj2Bo': ['😱आपके YouTube CHANNEL का SETTING ही गड़बड़ है, इसलिए ❌️VIEWS ❌️SUBSCRIBER नही आ रहे ? Spreading Gyan', '159218', '6247', '1704'], 'tmN3wYRBlS8': ['😱अगर 90 दीन मे ❌️1000 SUBSCRIBER ❌️10M VIEWS पूरा नही हुआ तो क्या करना होगा ? Youtube Shorts Policy', '230890', '9641', '3536']}}, 1: {'title': 'We Make Creators', 'channelId': 'UCr6hHjMNvgQxErQ1ZJV4drw', 'publishedAt': '2018-02-11T20:07:40Z', 'viewCount': 128358844, 'subscriberCount': 1130000, 'videoCount': 1413, 'uploadsPlaylistId': 'UUr6hHjMNvgQxErQ1ZJV4drw', 'allVideoIds': ['XB_jrIAG8qQ', 'gGhbPlIf37c', 'Drzg8ZPGb2A', '_MkTNur3fxM', 'S3qGz3KcMm8', 'T8_7xaJqFgQ', 'fQjZwItB_N4', 'ci4viuQSb1c', '330ynLHYi18', 'HVPkIs8MLXg'], 'videosInfo': {'XB_jrIAG8qQ': ['Live Channel Checking || Friday Special Live Channel Checking || Channel Promotion', '3807', '213', '36'], 'gGhbPlIf37c': ['Live Channel Checking || Friday Special Live Channel Checking || Channel Promotion', '0', '0', '0'], 'Drzg8ZPGb2A': ['2025 में Viral होने वाले Niche || पैसा और Views भर भर कर आयेगा || Top 3 Viral Niche Ideas of 2025', '11994', '552', '144'], '_MkTNur3fxM': ['Seo से Viral करे Shorts Video || Shorts Video Seo kaise kare || Youtube Shorts SEO 2025 Tutorials', '17468', '690', '284'], 'S3qGz3KcMm8': ['सबसे Fast Grow होने वाले Shorts Channel Ideas ll Top 10 Shorts Channel Ideas ll Grow Shorts Channel', '21185', '951', '356'], 'T8_7xaJqFgQ': ['कोई भी Video बस 24 Hour में Viral करे || How to Viral YouTube Video In our Niche - Viral secrets', '17536', '863', '357'], 'fQjZwItB_N4': ['सबका Channel Checking होगा || LIVE Channel Checking || Live Channel Checking And Free Promotion', '4299', '201', '31'], 'ci4viuQSb1c': ['90 Days में कोई भी Channel Grow करो || How To Grow Channel In 90 Days || 10 Pro Tips For Youtuber', '30269', '1567', '407'], '330ynLHYi18': ['JioHotstar Domain वाले बच्चो कि Real Story || 2 Smart Kids Vs JioHotstar || Jainam & Jivika Podcast', '8683', '286', '53'], 'HVPkIs8MLXg': ['10K Followers से Rs 50,000 Earn करे || Instagram Se Paise kaise Kamaye || How To Grow On Instagram', '27393', '1061', '174']}}, 2: {'title': 'Manoj Dey', 'channelId': 'UCT2xzagsBVtStUCA2ulvKmQ', 'publishedAt': '2016-11-24T14:48:33Z', 'viewCount': 1001951068, 'subscriberCount': 7010000, 'videoCount': 1728, 'uploadsPlaylistId': 'UUT2xzagsBVtStUCA2ulvKmQ', 'allVideoIds': ['2yCgzKUs1Bs', 'NiUHMlPsE6U', '2eTl-1dAhvE', 'OEKyxgfjCbg', 'NSm3bFUdWgo', '1akMONBEdJQ', 'ZVFuoV9_GGE', 'Fv4VAxYAHOE', '901fa6LD-gk', 'vWhME-GC6wg'], 'videosInfo': {'2yCgzKUs1Bs': ['Long से ज़्यादा पैसा Shorts में 😱 Live Earning Proof | 100K Shorts Views = कितना पैसा ?', '155034', '9567', '3717'], 'NiUHMlPsE6U': ['Complete 1000 Subscribers & 4000 Watchtime in Just 30 Days | New Trick | 100% Working', '145495', '9596', '3648'], '2eTl-1dAhvE': ['मेरा Monetisation Disabled हो गया 😭 अब Paisa नहीं आयेगा 🙏🏻', '132160', '6497', '2669'], 'OEKyxgfjCbg': ['Good News | Facebook Content Monetisation सबको मिल रहा है 🤩 Facebook Monetisation Big Update🔥', '149773', '8010', '2698'], 'NSm3bFUdWgo': ['Youtube की मनमानी 🤬 Anurag Dwivedi Got 3 Strikes !!', '248563', '10280', '2570'], '1akMONBEdJQ': ['ये गलती मत करना Channel Monetise नहीं होगा !! Reused Content Policy 2025', '167349', '9632', '4078'], 'ZVFuoV9_GGE': ['Mercedes कितने की पड़ी ? पढ़ाई करे या Youtube ? QNA', '102751', '7042', '1666'], 'Fv4VAxYAHOE': ['Sourav Joshi Reality ? Exposed || 5 Cr का Car Collection 🤡', '306189', '18864', '3250'], '901fa6LD-gk': ['इससे अच्छा कोई Mic नहीं ! Dji Wireless Mic For YouTube Videos 🔥', '63855', '2771', '1157'], 'vWhME-GC6wg': ['Auto-Dubbed क्या है ? कैसे Enable करे ? New Update 2025 🔥', '143968', '7793', '2886']}}, 3: {'title': 'Skillsiya', 'channelId': 'UCsQ6_w5iUOUOMAUPclg2kcg', 'publishedAt': '2019-11-25T16:38:02.828954Z', 'viewCount': 69710221, 'subscriberCount': 970000, 'videoCount': 306, 'uploadsPlaylistId': 'UUsQ6_w5iUOUOMAUPclg2kcg', 'allVideoIds': ['9GdbzEHg-t4', 'sSPjtEyDQEU', 'KwF0T5pI3Ig', 'nXpBHLB6sb8', 'jX4zf1MBYUI', '88a9PFQDDqY', 'Tf8UnoMOrc0', 'yC6oct0zuVE', 'O_Ne1mMbQx0', 'KP8KGc8YbjM'], 'videosInfo': {'9GdbzEHg-t4': ['This FREE AI Tool Changed How You Learn Forever 🔥 | NotebookLM Full Tutorial', '4908', '382', '19'], 'sSPjtEyDQEU': ['Top 6 High Paying AI-Proof Tech Skills | 97 Million Jobs Coming By 2030🔥', '18948', '968', '49'], 'KwF0T5pI3Ig': ['Google 10+ FREE AI Courses 🔥 | FREE Certificates & Cash Rewards, Gifts 🎁', '49954', '2199', '54'], 'nXpBHLB6sb8': ['5 High-Paying Skills for 6-Figure Income (No Degree Required!)', '78367', '3771', '91'], 'jX4zf1MBYUI': ['ये 6 Best Computer Courses जीवन बदल देंगी ! 2025 | After 10th & 12th | सबसे अधिक Salary', '105807', '4396', '137'], '88a9PFQDDqY': ['🔥 FREE 35,000+ Internship LIVE! | Stipend ₹3.6 Lakh + Job Offer – Biggest Fair, Don’t Miss!', '16785', '801', '40'], 'Tf8UnoMOrc0': ['🔥 ISRO Free Python Course with Certification | Master Python, AI & ML | Don’t Miss🚀', '24735', '1062', '71'], 'yC6oct0zuVE': ['Cyber Security Expert FREE में कैसे बने? | Google, IBM, TATA Job Ready Courses 🔥 (2025)', '33036', '1614', '34'], 'O_Ne1mMbQx0': ['FREE Online Courses ✅ Get Certified & Job-Ready in 2025!', '51053', '1901', '61'], 'KP8KGc8YbjM': ['ये 7 High-Value Skills ज़िंदगी बदल देगी! | Everyone Must-Learn in AI Era 2025', '180735', '8479', '200']}}, 4: {'title': 'Learn With Lokesh Lalwani', 'channelId': 'UCFAr3FQxRhSzVNOD3vq1gMQ', 'publishedAt': '2018-11-20T08:41:32Z', 'viewCount': 59583787, 'subscriberCount': 1320000, 'videoCount': 444, 'uploadsPlaylistId': 'UUFAr3FQxRhSzVNOD3vq1gMQ', 'allVideoIds': ['b50DwI0VMwQ', 'jGXXtT2Fgiw', 'fbeFNqm3IgM', '-a1lucYtUC0', '9P3YT9LQ8jc', 'DtYMVUgeWf4', '018-58l1bdc', '1K8oAL6OCt0', 'WH-yQSyVIB0', 'zqko2sgskTc'], 'videosInfo': {'b50DwI0VMwQ': ['Help business to create content using AI 🚀', '4970', '351', '14'], 'jGXXtT2Fgiw': ['Earn Second Salary by running a Faceless YouTube channel 🚀', '22783', '1357', '289'], 'fbeFNqm3IgM': ['Earn upto Rs. 2000 using AI  🔥', '10525', '861', '30'], '-a1lucYtUC0': ['Earn upto Rs. 1794 per day as Second Salary in 2025 🚀', '45022', '2232', '484'], '9P3YT9LQ8jc': ['Smartest way to earn upto Rs. 1350 per day as Second Salary in 2025 🚀', '65646', '2617', '636'], 'DtYMVUgeWf4': ['Earn upto Rs. 900 per day as Second Salary in 2025 🚀🚀', '569900', '19194', '1498'], '018-58l1bdc': ['Part Time Trick to Earn upto ₹450 per hour from Home in 2025 🔥📈', '104254', '4139', '902'], '1K8oAL6OCt0': ['#1 Excel trick to earn upto Rs. 1299 per project as Second Salary in 2025 🚀', '333027', '10869', '1370'], 'WH-yQSyVIB0': ['SALES JOB to DATA ANALYST 🚀 earning 💸💸 LPA', '15033', '555', '113'], 'zqko2sgskTc': ['Smartest way to earn upto Rs. 1739 per day as Second Salary in 2025 🚀', '305587', '10996', '974']}}, 5: {'title': 'Upcoming World', 'channelId': 'UC2gdXA4n6_yEHos7CyQk7rA', 'publishedAt': '2011-07-22T12:49:54Z', 'viewCount': 312960790, 'subscriberCount': 1500000, 'videoCount': 1269, 'uploadsPlaylistId': 'UU2gdXA4n6_yEHos7CyQk7rA', 'allVideoIds': ['musdwLh9GcY', 'dkC6sJZcTEA', 'JsVW9SYoeb4', 'ulUK5JdqtvY', '-RGu1XXYj9g', 'jaS10J9BeKE', 'FA_LQigJ6M8', 'yKL3thGNd-8', 'elh8MetWbFM', '3R9_GY5l3yw'], 'videosInfo': {'musdwLh9GcY': ['Instagram Verification Badge Only ₹45 | Instagram Par 45 Rupees Me Blue Tick Kaise Lagaye 2025', '20085', '593', '66'], 'dkC6sJZcTEA': ['Instagram Par Professional Dashboard Kaise Hataye |How To Delete Professional Dashboard On Instagram', '3662', '115', '25'], 'JsVW9SYoeb4': ['Instagram Blend Feature Kya Hai ? | How to Use Instagram Blend | What is Instagram Blend Use ?', '2330', '94', '8'], 'ulUK5JdqtvY': ['What is Edits On Instagram App | How to Edit Reels Videos On Instagram Edits App | Edits App Launch', '39161', '919', '75'], '-RGu1XXYj9g': ['How To Change Instagram Password 2025 | Instagram Password Change Kaise Kare', '2030', '97', '8'], 'jaS10J9BeKE': ['Facebook Account Delete Kaise Kare | How To Delete Facebook Account Permanently | Fb id delete Kaise', '39243', '499', '61'], 'FA_LQigJ6M8': ['Blend On Instagram | What is Instagram Blend | How to use Instagram Blend works ?', '46004', '996', '47'], 'yKL3thGNd-8': ['Whatsapp status me photo ke sath song kaise lagaye | add music with photo in whatsapp status 2025', '3104', '107', '12'], 'elh8MetWbFM': ['facebook ka password kaise pata kare | facebook password kaise pata kare apna | fb password change', '3213', '78', '16'], '3R9_GY5l3yw': ['UNLOCK THIS FROM REEL DESIGN | Instagram New Feature Lock Reel | Reel Lock On Instagram New Update', '2710', '107', '23']}}, 6: {'title': 'SJ SEARCHING', 'channelId': 'UC2zYoCWdj3qLtAspeirqWUQ', 'publishedAt': '2019-08-16T19:03:08Z', 'viewCount': 8071043, 'subscriberCount': 777000, 'videoCount': 341, 'uploadsPlaylistId': 'UU2zYoCWdj3qLtAspeirqWUQ', 'allVideoIds': ['zi2xFCq0BGg', 'Xc8C4AT98kA', 'noplSk1zQTo', '7_zPY_0PjYI', 'v1Y1q1ZQd7w', 'Ru0rj0peeOY', 'rGIvuzrqF1s', 'rrx4O3DbcZQ', '2MvxCEV6gbI', 'Vs-pSMd7VOY'], 'videosInfo': {'zi2xFCq0BGg': ['SuperFast Trick | Instagram Followers Kaise Badhaye | Instagram Par Followers Kaise Badhaye 2025', '1439', '53', '12'], 'Xc8C4AT98kA': ['Instagram Follower Kaise Badhaye | instagram Par Followers Kaise Badhaye | Free instagram followers', '1881', '60', '15'], 'noplSk1zQTo': ['Instagram Follower Kaise Badhaye | Instagram Par Followers Kaise Badhaye | Free instagram Followers', '8345', '230', '38'], '7_zPY_0PjYI': ['Instagram Follower Kaise Badhaye | Instagram Par Followers Kaise Badhaye | Free Instagram Followers', '1593', '67', '20'], 'v1Y1q1ZQd7w': ['Instagram follower kaise badhaye | instagram Par followers Kaise badhaye | Free Instagram Followers', '2535', '79', '21'], 'Ru0rj0peeOY': ['Instagram follower Kaise Badhaye | Instagram Par Followers Kaise Badhaye | Free instagram followers', '5104', '141', '25'], 'rGIvuzrqF1s': ['Instagram Follower Kaise Badhaye 2025 | Instagram Par Followers Kaise Badhaye | Instagram Followers', '10625', '319', '81'], 'rrx4O3DbcZQ': ['Instagram Follower Kaise Badhaye | Instagram Par Followers Kaise Badhaye | Free Instagram Followers', '1519', '51', '18'], '2MvxCEV6gbI': ['Instagram follower kaise Badhaye | instagram par Followers Kaise Badhaye | Free Instagram Followers', '15078', '302', '52'], 'Vs-pSMd7VOY': ['Instagram Follower Kaise Badhaye | Instagram Par Followers Kaise Badhaye | Free instagram Followers', '6766', '252', '45']}}, 7: {'title': 'SOCIALEPFO', 'channelId': 'UClmVVcYuH0ZPm3qsPm1TQIg', 'publishedAt': '2019-04-18T05:55:54Z', 'viewCount': 12697734, 'subscriberCount': 1670000, 'videoCount': 683, 'uploadsPlaylistId': 'UUlmVVcYuH0ZPm3qsPm1TQIg', 'allVideoIds': ['LOh2CqnCQlI', 'rkS-OJ1PqT0', 'YvqF4dk0a6E', 'kkj9kuJCI-Y', 'F8bjll9MrC0', 'JhcofQndld4', 'hwC3YPMY_LM', 'OJNikqor1qo', 'wBQr0N5dbtA', 'YUDLkRs_vw4'], 'videosInfo': {'LOh2CqnCQlI': ['Avail EPFO services through the UMANG app using your smart devices.', '2336', 0, '0'], 'rkS-OJ1PqT0': ['Income Tax Provisions on EPF | Part 3 - Form 15G/15H', '4180', '244', 0], 'YvqF4dk0a6E': ['EPFO QUIZ TIME', '2514', '27', '5'], 'kkj9kuJCI-Y': ['EPFO Quiz Time', '1379', '42', '2'], 'F8bjll9MrC0': ['Nidhi Aapke Nikat 2.0 Camp | Goa', '2335', '60', 0], 'JhcofQndld4': ['Nidhi Aapke Nikat 2.0 Camps Glimpses', '1883', '42', 0], 'hwC3YPMY_LM': ['Live Session on \"EPF Claims: Types & Processes and UAN Allotment & Activation Using UMANG App\"', '0', '13', 0], 'OJNikqor1qo': ['Nidhi Aapke Nikat 2.0 camp | Mumbai Suburban, Maharashtra', '2368', '75', 0], 'wBQr0N5dbtA': ['Modify Date of Joining/Exit in EPF Account Hassle-free', '6749', '132', 0], 'YUDLkRs_vw4': [\"Income Tax Provisions on EPF | Part 2 - Employee's Contribution\", '12136', '255', 0]}}, 8: {'title': 'Sarkari DNA', 'channelId': 'UCtsetVYMkX8iPFS2oUOcXEw', 'publishedAt': '2019-01-24T07:26:55Z', 'viewCount': 568982218, 'subscriberCount': 3730000, 'videoCount': 1258, 'uploadsPlaylistId': 'UUtsetVYMkX8iPFS2oUOcXEw', 'allVideoIds': ['w0In7nROznM', 'DAdK7ICSnn4', 'CZ_B8Z9bqVA', 'q0yu4jrYHG8', 'VhdfrrDwBJc', '657LCOpUPfQ', 'XjxoFciolos', 'fj6qq30rFYU', 'q8oNUZzb3wc', 'c49o9aETa8U'], 'videosInfo': {'w0In7nROznM': ['PM Awas Yojana Gramin List 2025 Kaise Dekhein | Naam Check Karein & List Download Karein', '10733', '480', '56'], 'DAdK7ICSnn4': ['PM Awas Yojana Gramin Survey Online Form 2025 | pm awas gramin online apply 2025 | pm awas gramin', '58127', '1354', '118'], 'CZ_B8Z9bqVA': ['Angel One Account Opening 2025 | angel broking account opening | angel one app account kaise banaye', '3078', '88', '6'], 'q0yu4jrYHG8': ['E Shram Card Kaise Banaye 2025 | e shram card online apply | e shram card registration online 2025', '20841', '543', '39'], 'VhdfrrDwBJc': ['Best Zero Balance Bank Account in 2025|| Zero Balance Bank Account Opening Online', '29128', '655', '58'], '657LCOpUPfQ': ['New voter id card kaise banaye 2025 | Voter Card New Portal | Mobile se voter card kaise apply kare', '53772', '1019', '92'], 'XjxoFciolos': ['Aadhar card me mobile no link kaise kare 2025 | How to Link Mobile Number to Aadhar Card | uidai', '89968', '1999', '7'], 'fj6qq30rFYU': ['PVC Voter Card order Online 2025 | Voter Card ghar kaise mangaye | Voter Card apply online', '23156', '630', '46'], 'q8oNUZzb3wc': ['CSC id registration 2025 | csc id kaise banaye | csc center kaise khole | csc id kaise milega', '28804', '751', '189'], 'c49o9aETa8U': ['PAN Card Correction Online 2025 | PAN 2.0 | पैन कार्ड में संशोधन ऐसे करे | PAN Card 2025 Correction', '33826', '725', '46']}}, 9: {'title': 'WorkerVoice.in', 'channelId': 'UCfj7SPM25A3RQSYE1YFPyVQ', 'publishedAt': '2016-02-06T06:18:31Z', 'viewCount': 107504066, 'subscriberCount': 1230000, 'videoCount': 1381, 'uploadsPlaylistId': 'UUfj7SPM25A3RQSYE1YFPyVQ', 'allVideoIds': ['w243MfNc_7U', '43oBySFVp68', 'KdeyyPdOyOw', 'tS0lNH3Vytc', 'bi4zCyDZ7vo', 'tZaH8BTOdTY', 'Y1Yj4XL49fw', '4kw7v8GNHCo', 'VbAdv59DB1s', 'Mq0a9GCoEmg'], 'videosInfo': {'w243MfNc_7U': ['Sahara India ka Paisa Kab Milega और प्राईवेट कर्मचारी का नौकरी से जुड़ा सवाल फोन on Sunday Live', '1317', '160', '21'], '43oBySFVp68': ['Sahara India Ka Paisa Milega ki Nahin, सहारा पोर्टल पर अब क्लेम करें या नहीं | आपके अहम सवाल का जबाव', '19780', '842', '134'], 'KdeyyPdOyOw': ['Sahara India Refund payment मिला कि नहीं जब रिक्लेम किया, Sahara India Payment Ke Bare Mein जानकारी', '29833', '811', '167'], 'tS0lNH3Vytc': ['Central Government Security Guard Salary अब 27 हजार से भी ज्यादा मिलेगा, Private Security Guard News', '9921', '340', '45'], 'bi4zCyDZ7vo': ['Sahara India Portal रिफंड नहीं मिला, Canara Bank में कितना सैलरी मिलना चाहिए Worker Voice Live', '8714', '370', '42'], 'tZaH8BTOdTY': ['Kishan Fasal Muavja 2025 विरोध प्रदर्शन, अनुमंडल कृषि पदाधिकारी के सामनेसुरजीत शामिल ने रखा यह मांग', '675', '35', '3'], 'Y1Yj4XL49fw': ['Kisan ko Muavja Kaise Milega - किसानों का फसल नुकसान मुआवजा, पटोरी कृषि पदाधिकारी ने कहा?', '1215', '41', '1'], '4kw7v8GNHCo': ['Sahara India ka Paisa और प्राईवेट कर्मचारी का नौकरी से जुड़ा सवाल फोन Live on Sunday @WorkerVoice', '11988', '615', '98'], 'VbAdv59DB1s': ['Sahara India Ka Paisa पाने का बेहतरीन मौका, मोदी जी के चुनाव से पहले यह करें | Sahara Refund 2025', '29414', '1076', '115'], 'Mq0a9GCoEmg': ['Minimum Wages in Delhi April 2025 मंहगाई भत्ता खुशखबरी, दिल्ली सरकार प्राइवेट कर्मचारी सैलरी बढ़ोतरी?', '22691', '853', '203']}}, 10: {'title': 'Anurag Aggarwal: Business Coach', 'channelId': 'UCBM6AwaDl8uPVAN_BUIqPUw', 'publishedAt': '2009-09-24T04:14:54Z', 'viewCount': 1973396673, 'subscriberCount': 5240000, 'videoCount': 1398, 'uploadsPlaylistId': 'UUBM6AwaDl8uPVAN_BUIqPUw', 'allVideoIds': ['9XiMJr6MNGA', 'G--fakz8uWY', 'Ab2oxZ-Xv6s', 'Dy3VDwVGS9o', 'qPu4k3Xd7Ew', 'E8BdOJB6OvA', 'iwOd5LDziJI', 'IcsOLsiC1JE', 'G_qA0pN7KKg', '6Tb9yWMebcU'], 'videosInfo': {'9XiMJr6MNGA': ['Kill your loan fast | Anurag Aggarwal | In Hindi #loan', '2189', '128', '33'], 'G--fakz8uWY': ['Ultimate Guide To Health Insurance 2025 | Anurag Aggarwal | In Hindi #healthinsurance', '1341', '97', '24'], 'Ab2oxZ-Xv6s': ['Top 10 selling cars (Jan 2025) | Anurag Aggarwal | #top10 #cars #2025', '199035', '11213', '40'], 'Dy3VDwVGS9o': ['Top 10 stock exchanges worldwide | Anurag Aggarwal | #top10 #stockmarket', '264846', '12715', '23'], 'qPu4k3Xd7Ew': ['Top 5 pharma companies by market cap | Anurag Aggarwal | #top10 #vs', '49986', '3206', '12'], 'E8BdOJB6OvA': ['Top 10 car companies | Anurag Aggarwal', '1645848', '85497', '110'], 'iwOd5LDziJI': ['Name countries that start and end with same letter | Anurag Aggarwal', '4797714', '187649', '638'], 'IcsOLsiC1JE': ['Top 10 peaceful countries in 2024 | Anurag Aggarwal', '3938366', '236776', '1330'], 'G_qA0pN7KKg': ['Top 10 Greatest Men of all Times | Anurag Aggarwal', '2175417', '118324', '808'], '6Tb9yWMebcU': ['Zerodha VS Fyers VS Dhan | Anurag Aggarwal', '11155', '323', '28']}}, 11: {'title': 'CA Rahul Malodia: Business Coach', 'channelId': 'UCPgfM-dk3XAb4T3DtT6Nwsw', 'publishedAt': '2019-09-19T05:23:15Z', 'viewCount': 1044360611, 'subscriberCount': 6590000, 'videoCount': 1076, 'uploadsPlaylistId': 'UUPgfM-dk3XAb4T3DtT6Nwsw', 'allVideoIds': ['uak9vqJRDFM', '4o_biM2Yrh4', 'Dx2XJ0j2fgI', 'MuZTGCgAKSY', 'xKQCuLjmcOU', '0Hpb_lrW7P8', 'ta00kffbg40', '5wOyGvIhUGY', '-Aaq7lccHQQ', 'o336jR26ddQ'], 'videosInfo': {'uak9vqJRDFM': ['एक गलती कैसे Business को पड़ती है भारी ! #shorts #trending #startups', '87162', '8579', '40'], '4o_biM2Yrh4': ['The Real Story of Groww | From Zero to ₹70,000 Crore Empire | Case Study', '107357', '5202', '319'], 'Dx2XJ0j2fgI': ['Stock Market का हाल बेहाल! #shorts #stockmarket #stocks', '145700', '11690', '56'], 'MuZTGCgAKSY': ['अब घूमने के भी सरकार देगी पैसे !  #onlineearning #travel #traveling', '763433', '50601', '173'], 'xKQCuLjmcOU': ['Ram Mandir, Waqf Board, Babri Masjid & Bulldozer Baba Ft. Shantanu Gupta #shorts', '85332', '7477', '113'], '0Hpb_lrW7P8': ['Adani group को तोड़ने की साजिश हुई Fail ! #adanigroup #adani', '888486', '58670', '279'], 'ta00kffbg40': ['BlinkIT बना Zomato के लिए वरदान? #shorts #swiggy #trending', '207754', '15217', '76'], '5wOyGvIhUGY': ['आखिर कैसे होती है Films की marketing ? कैसे बनती है Film Superhit? #films #movies #trending', '206448', '14208', '202'], '-Aaq7lccHQQ': ['अब चुप नहीं बैठेगा India !  | Pahalgam Terror Attack #pahalgam #pahalgamattack', '364110', '45794', '886'], 'o336jR26ddQ': ['HUL vs Honasa: Brand War! #shorts #trending #unilever', '579224', '34508', '93']}}, 12: {'title': 'Dr Ujjwal Patni Business coach', 'channelId': 'UCqXCX2DnQZh8e4VNT7MPTtA', 'publishedAt': '2009-01-23T08:18:55Z', 'viewCount': 473135993, 'subscriberCount': 6760000, 'videoCount': 1207, 'uploadsPlaylistId': 'UUqXCX2DnQZh8e4VNT7MPTtA', 'allVideoIds': ['YyMy3YLIz2Q', '_5HdNf3dobA', 'UxcmJ8HuBK0', 'CvjDiMwKRMg', 'kHrHyk9pAj4', '7_uhuAszWkc', '9iDmhWMEOow', 'Jy53MnaPIm4', 'Aqucda7Jfy8', 'q_tSn6JZqy8'], 'videosInfo': {'YyMy3YLIz2Q': ['Cobra Effect | सांप लाओ, पैसा पाओ | Dr Ujjwal Patni', '40442', '1530', '15'], '_5HdNf3dobA': ['Shocking fraud ? Gpay, PhonePe, Paytm, Digital arrest, ठगी से कैसे  बचें? Dr Ujjwal Patni', '9246', '658', '32'], 'UxcmJ8HuBK0': ['सोना लोगे\\xa0या\\xa0पानी? Dr Ujjwal Patni', '65213', '1869', '16'], 'CvjDiMwKRMg': ['गुटखा-तंबाकू खाते ही नौकरी\\xa0जाएगी | Dr Ujjwal Patni', '30904', '1079', '7'], 'kHrHyk9pAj4': ['How to sell your talent ? अपनी कीमत कैसे बढायें? Dr\\xa0Ujjwal\\xa0Patni', '8878', '684', '19'], '7_uhuAszWkc': ['रहस्य! भगवान से अपना काम कैसे करायें? Dr Ujjwal Patni', '31154', '1387', '9'], '9iDmhWMEOow': ['अपनी असली ताकत को कैसे पहचानें? Dr Ujjwal Patni', '95586', '2699', '19'], 'Jy53MnaPIm4': ['सबको करना चाहिए BABA\\xa0TEST | Dr Ujjwal Patni', '61112', '2114', '18'], 'Aqucda7Jfy8': [\"The Price of Ambition: Lessons from Blusmart's Downfall\", '30444', '851', '90'], 'q_tSn6JZqy8': ['आज से SALES बंद | Dr Ujjwal\\xa0Patni', '28266', '701', '4']}}, 13: {'title': 'Biz Tak', 'channelId': 'UCSWSOS6YXUbNMzTH-tV7Pfw', 'publishedAt': '2018-07-23T10:10:20Z', 'viewCount': 948174415, 'subscriberCount': 1960000, 'videoCount': 29546, 'uploadsPlaylistId': 'UUSWSOS6YXUbNMzTH-tV7Pfw', 'allVideoIds': ['5PQxDEIx9y0', '_D_JQdeuNQM', 'a9jY-ZOeKto', 'EDLUKXWwiCo', 'VOd4tBdFsKI', '0ngiPb_TqZs', 'eetw5apBTsQ', 'bzSPIuBgI4k', 'DA2C3S3vFwc', 'mMr1045uXOo'], 'videosInfo': {'5PQxDEIx9y0': ['India-Pakistan युद्ध हुआ तो कितना सुरक्षित है आपका पोर्टफोलियो? | Fayde Ke Fund | BIZ Tak', '714', '28', '6'], '_D_JQdeuNQM': ['Share Market का असली बॉस कौन, FII या DII? | Hisab Kitab | BIZ Tak', '983', '73', '2'], 'a9jY-ZOeKto': ['Gold की तेज़ी पर ब्रेक, Uttar Pradesh मे गिरे भाव! | BIZ Tak', '5374', '101', '1'], 'EDLUKXWwiCo': ['Share Market के लिए अगला हफ्ता धमाकेदार! आएगा तूफान या बनेगा नया हाई? | Market Next Week | BIZ Tak', '5545', '310', '26'], 'VOd4tBdFsKI': ['Warren Buffet की Warning, क्या डूबेगा Dollar? | Donald Trump | BIZ Tak', '13992', '586', '42'], '0ngiPb_TqZs': ['Warren Buffet ने लिया रिटायरमेंट! कौन होगा Berkshire Hathway का नया CEO? | BIZ Tak', '3279', '137', '14'], 'eetw5apBTsQ': ['Mutual Funds ने April में दिया 7% तक का रिटर्न, निवेशक मालामाल! | BIZ Tak', '3294', '137', '36'], 'bzSPIuBgI4k': ['India ने चल दी आखिरी चाल, Pakistan पूरी तरह बर्बाद! | BIZ Tak', '17306', '457', '40'], 'DA2C3S3vFwc': ['SBI Q4FY25 Result: 10% गिरा मुनाफा, Share का क्या होगा? | BIZ Tak', '17527', '436', '33'], 'mMr1045uXOo': ['SIP शुरू करने का सही समय! ये 3 Mutual Funds कराएंगे दमदार कमाई? | Fayde Ke Fund | BIZ Tak', '13508', '364', '19']}}, 14: {'title': 'CA Rachana Phadke Ranade', 'channelId': 'UCe3qdG0A_gr-sEdat5y2twQ', 'publishedAt': '2009-03-10T11:52:05Z', 'viewCount': 310025611, 'subscriberCount': 5230000, 'videoCount': 1417, 'uploadsPlaylistId': 'UUe3qdG0A_gr-sEdat5y2twQ', 'allVideoIds': ['lDXBEw4kdOg', 'S10Duj4C0Ao', 'hSLb7ENmxBM', 'RTtYJF8bxJk', 'LKnkITlLMwM', 'OT7JLxLsaYs', '7GQcqQLSddo', '3XEQHzxdnVY', 'uuzle9iFj_U', '6hoTvuq5Oss'], 'videosInfo': {'lDXBEw4kdOg': ['Where to Invest Rs 10 Lakhs Now? | Investment Strategies | CA Rachana Ranade', '85410', '2200', '146'], 'S10Duj4C0Ao': ['Where are FIIs Investing? | Nifty Levels | CA Rachana Ranade', '26942', '1119', '50'], 'hSLb7ENmxBM': ['India | Pakistan | Impact on Stock Market | Analyzing Past Trends | CA Rachana Ranade', '77546', '2082', '169'], 'RTtYJF8bxJk': ['Gold Outlook 2025 | Is this the Right Time to Buy Gold? | CA Rachana Ranade', '51310', '1312', '246'], 'LKnkITlLMwM': [\"Investor's Favourite Mutual Fund Type in 2025 |  CA Rachana Ranade\", '49864', '1261', '124'], 'OT7JLxLsaYs': ['Top 5 Reasons Why This Rally Could Sustain | CA Rachana Ranade', '69880', '2470', '420'], '7GQcqQLSddo': ['Nifty Above 23,800: What’s Next? | CA Rachana Ranade', '41607', '1936', '124'], '3XEQHzxdnVY': ['Why do we make Dumb Investing Decisions? |  Behavioural Finance |  CA Rachana Ranade', '34403', '1571', '306'], 'uuzle9iFj_U': ['Bengaluru LIVE  Event: Important announcement | CA Rachana Ranade', '17109', '304', '56'], '6hoTvuq5Oss': ['When the Boss Leaves for Bengaluru... 🥺 | Har Ghar Investor | CA Rachana Ranade #shorts', '52784', '546', '31']}}, 15: {'title': 'NDTV Profit', 'channelId': 'UC3uJIdRFTGgLWrUziaHbzrg', 'publishedAt': '2016-05-30T14:17:00Z', 'viewCount': 374302739, 'subscriberCount': 1250000, 'videoCount': 45513, 'uploadsPlaylistId': 'UU3uJIdRFTGgLWrUziaHbzrg', 'allVideoIds': ['_IwGuumnxOg', 'q6hcc_1_NZI', 'jPNZoYW_m-U', 'OcbypwHHU0Y', 'lZVpsKZ-WzE', '-cdgIcpnvPM', 'AnaZ6zmi6Q4', 'zWzcAALTdHQ', 'Rk2NzyAarJc', 'KQ0HiK337Z0'], 'videosInfo': {'_IwGuumnxOg': ['Watch LIVE: WAVES Summit In Mumbai | Aamir Khan LIVE |  Marya LIVE', '72', '3', '0'], 'q6hcc_1_NZI': [\"How THIS Ace Investor Beat Warren Buffett's Returns For 3 Decades\", '852', '42', '0'], 'jPNZoYW_m-U': ['Watch LIVE: WAVES Summit In Mumbai | Sanjay Pugalia LIVE', '686', '6', '0'], 'OcbypwHHU0Y': ['BluSmart Drivers Protest Against Suspension Of Fleet', '5395', '50', '2'], 'lZVpsKZ-WzE': [\"SBI's CS Setty on Banking Boom & Core Sector Challenges, Impact Of Tariffs, And More\", '357', '8', '0'], '-cdgIcpnvPM': [\"'Indian Commodity Market Has To Develop More For Emerging Products': MCX's Praveena Rai\", '253', '4', '3'], 'AnaZ6zmi6Q4': [\"'Millions Need To Be Aware Of AI': Ronnie Screwvala On Bringing Courses In AI And Machine Learning\", '149', '6', '3'], 'zWzcAALTdHQ': [\"Value Or Luxury Food At Single Or Group Serve: What Is Rebel Foods' 2x2 Matrix Business Model?\", '138', '0', '0'], 'Rk2NzyAarJc': ['Jaydeep Burman On Missing Kolkata Rolls And The Idea Of Starting A Store | Rebel Foods', '102', '2', '0'], 'KQ0HiK337Z0': [\"'Significant Participation From DIIs Are Providing Stability To The Markets': HDFC's Navneet Munot\", '254', '5', '0']}}, 16: {'title': 'bekifaayati', 'channelId': 'UCdvOCtR3a9ICLAw0DD3DpXg', 'publishedAt': '2021-03-31T05:32:34.901869Z', 'viewCount': 549948196, 'subscriberCount': 1870000, 'videoCount': 903, 'uploadsPlaylistId': 'UUdvOCtR3a9ICLAw0DD3DpXg', 'allVideoIds': ['h1a0TGidjPo', 'ihq4_A0a79Y', 'B4uexqXscBM', 'Go6oLN8bCX4', 'zkypU-32Aio', 'hwYRy8qC8L0', 'fibg-KD51yQ', 'frG-U_jgv6w', 'aTWLGjHW10A', 'OIpMY9OBZ8k'], 'videosInfo': {'h1a0TGidjPo': ['GST on UPI Transactions', '324910', '8972', '61'], 'ihq4_A0a79Y': ['2 FREE Flight Tickets || Best Travel Credit Card', '119047', '4188', '22'], 'B4uexqXscBM': ['Best HDFC Credit Card ||  HDFC Credit Card - Best in 2025', '49429', '1018', '189'], 'Go6oLN8bCX4': ['Should You Rent or Buy a House? What Makes More Sense in 2025', '4412', '100', '12'], 'zkypU-32Aio': ['Pay 2X for your Car', '131090', '3395', '35'], 'hwYRy8qC8L0': ['Challan Kat Gaya', '112971', '3850', '19'], 'fibg-KD51yQ': ['SIP ka Sacch', '101478', '3675', '32'], 'frG-U_jgv6w': ['Home Loan Prepayment Penalty', '420575', '16765', '48'], 'aTWLGjHW10A': ['Car Modification Rules', '118063', '4675', '20'], 'OIpMY9OBZ8k': ['BEST Health Insurance Plans 2025 : Niva Bupa Health Insurance vs HDFC Ergo Optima Secure', '13657', '324', '64']}}, 17: {'title': 'Money9', 'channelId': 'UCdYV_l-cgsMRHZvp0zkmujg', 'publishedAt': '2021-01-21T12:26:35.055718Z', 'viewCount': 205920036, 'subscriberCount': 1790000, 'videoCount': 23143, 'uploadsPlaylistId': 'UUdYV_l-cgsMRHZvp0zkmujg', 'allVideoIds': ['O8qB-nLSMPo', 'fkva-sqdMoc', 'FlZJlk5C1os', 'NwhK_E1qm80', 'npxttJWVZ_Y', 'IxMUDxW2k74', 'Gm_jrRjSHqE', 'WO3nK72oA14', 'GMJAJ--Yegc', 'WOo_YzmnkVk'], 'videosInfo': {'O8qB-nLSMPo': ['Cibil Score कम होने के बावजूद ऐसे मिलेगा Personal Loan, जान लें तरीका', '79', '4', '1'], 'fkva-sqdMoc': ['Right Time to Withdrawal Provident Fund | कब निकालना चाहिए Provident Fund? | Money9', '280', '15', '1'], 'FlZJlk5C1os': ['PPF अकाउंट से समय से पहले निकाल सकते हैं ऐसे पैसा, जानिए क्या है पैसे निकालने के 2 आसान तरीके?', '503', '27', '10'], 'NwhK_E1qm80': ['Thar | Thar Roxx | Scorpio | Maruti Suzuki | Tata Motors | Hyundai | Mahindra क\\u200dिसने क\\u200dितनी की सेल?', '783', '17', '0'], 'npxttJWVZ_Y': [\"Chris Wood's Prediction on stock Market : US Share Market नहीं, Indian Stock Market पर खेला दांव!\", '5973', '245', '12'], 'IxMUDxW2k74': ['HAL, BEL, BDL, Mazagon Dock, HUL, ITC, Cipla, Sun Pharma, Infosys, TCS, HCL Share में क्या करें?', '16951', '671', '28'], 'Gm_jrRjSHqE': ['Mutual Fund Investment Strategy 2025 | आसमान से गिरे खजूर पर अटके, इस साल नहीं बन पाएगा पैसा?', '2293', '88', '2'], 'WO3nK72oA14': ['Adani Greens Share Price | Adani Greens के क्या हैं Long Term और Short Term Plan?', '5940', '282', '40'], 'GMJAJ--Yegc': ['SBI, Coal India, Canara Bank, Kalyan Jewellers, Titan, Paytm क्यों रहेंगे फोकस में? Market Masala', '14436', '491', '30'], 'WOo_YzmnkVk': ['FIIs vs DIIs | FIIs Selling | FIIs Buying : अब भारतीय बाजार पर चलेगा DIIs का राज | LIC | LIC News', '670', '23', '1']}}, 18: {'title': 'Invest Aaj For Kal', 'channelId': 'UCWHCXSKASuSzao_pplQ7SPw', 'publishedAt': '2013-08-14T08:15:06Z', 'viewCount': 709634335, 'subscriberCount': 3010000, 'videoCount': 2952, 'uploadsPlaylistId': 'UUWHCXSKASuSzao_pplQ7SPw', 'allVideoIds': ['hbKgOK13pz8', 'XAInL7ByCAI', 'YFV6V8AQR10', 'Xu4c6kygxAg', 'JWUBb0-cGcI', 'wfxRUfLf01Q', 'ur73z5VIY-M', 'WmCGtsd4xDg', 'cIVboBIgbMg', 'bmNuRs_v5-o'], 'videosInfo': {'hbKgOK13pz8': ['How many times your data is being hacked? Financial loss', '8892', '637', '7'], 'XAInL7ByCAI': ['Stocks buy at 40% discount', '104250', '5183', '21'], 'YFV6V8AQR10': ['Operator stock pata karne ki trick', '81689', '3910', '6'], 'Xu4c6kygxAg': ['NRI Demat account opening - Step by Step process | NRI (Non resident Indian) Demat account opening', '3453', '149', '4'], 'JWUBb0-cGcI': ['50000 Rs per girl child', '61526', '2262', '27'], 'wfxRUfLf01Q': ['5000 Rs per month | Skill vs marks', '86445', '2130', '11'], 'ur73z5VIY-M': ['Bitcoin, Nifty, Gold - Analysis | Stock market crash again? |', '24608', '1053', '31'], 'WmCGtsd4xDg': ['Car sale pe 2 lakh Rs loss', '98471', '3652', '52'], 'cIVboBIgbMg': ['Ather Energy IPO | Will It Ride India’s EV Growth? | Price, Anchor book and Details |', '59822', '1526', '71'], 'bmNuRs_v5-o': ['India vs Pakistan War - Stock market history', '156823', '5337', '91']}}, 19: {'title': 'Dear Sir', 'channelId': 'UC9dyrsYEmD4iGJ8Oz1G5dpw', 'publishedAt': '2016-12-13T08:13:06Z', 'viewCount': 2027000807, 'subscriberCount': 20300000, 'videoCount': 1093, 'uploadsPlaylistId': 'UU9dyrsYEmD4iGJ8Oz1G5dpw', 'allVideoIds': ['Jk7ym07RxOE', 'hbQ3N3V1UsI', 'wVmYd03TUao', '4IDUxR-F5Gs', 'UOa0ZpPEe7c', 'y-rvCOLR0hE', 'XibsM44tH7k', 'KyAnm_MzzWU', '12WykXZRrtU', 'YaJ1mLx9zv4'], 'videosInfo': {'Jk7ym07RxOE': ['ERROR DETECTION & CORRECTION CUET | IN ENGLISH GRAMMAR | CONCEPT/RULES/PRACTICE/LEARN | CUET 2025', '82777', '6860', '214'], 'hbQ3N3V1UsI': ['CUET/GAT MOST EXPECTED QUESTIONS | MOST IMPORTANT QUESTIONS | SCORE 100% NOW', '18032', '1137', '182'], 'wVmYd03TUao': ['FOREIGN WORDS | CUET', '0', '283', '0'], '4IDUxR-F5Gs': ['ONE SHOT FOR CUET | FULL REVISION', '0', '320', '0'], 'UOa0ZpPEe7c': ['🔥 CUET FREE MOCKS 🔥 | WELL RESEARCHED SET OF QUESTIONS & ANSWERS | TARGET FULL MARKS', '54985', '4789', '570'], 'y-rvCOLR0hE': ['VOCAB BOOSTER | LEARN 1000 VOCAB | CUET | VOCABULARY/WORDS/ENGLISH | CUET/SSC/UPSC', '193027', '14000', '767'], 'XibsM44tH7k': ['2025 CUET/GAT | QUESTIONS/STATEMENT & CONCLUSION/SITTING ARRANGEMENT/RANKING/SEQUENCE & SERIES', '42836', '1950', '266'], 'KyAnm_MzzWU': ['English Vocab Booster 🔥 by @DearSir | #shorts #vocabulary #cuetenglish', '62538', '3866', '148'], '12WykXZRrtU': ['DIRECT AND INDIRECT SPEECH CUET | IN ENGLISH GRAMMAR | CONCEPT/RULES/PRACTICE/LEARN | CUET 2025', '118211', '8400', '321'], 'YaJ1mLx9zv4': [\"because it's against humanity 😞 #pahalgamattack #kashmir #\", '60413', '4373', '150']}}}\n"
     ]
    }
   ],
   "source": [
    "print(channel_data)"
   ]
  },
  {
   "cell_type": "code",
   "execution_count": 68,
   "id": "7b10eb12",
   "metadata": {},
   "outputs": [],
   "source": [
    "# performing analysis and preparing output data\n",
    "output_dict = {}\n",
    "for index, (channel, details) in enumerate(channel_data.items(), start=1):\n",
    "    \n",
    "    total_likes = 0\n",
    "    total_comments = 0\n",
    "    total_videos = len(details[\"videosInfo\"])\n",
    "    video_titles = []\n",
    "\n",
    "    for video_id, stats in details[\"videosInfo\"].items():\n",
    "        title, views, likes, comments = stats\n",
    "        total_likes += int(likes) \n",
    "        total_comments+= int(comments)\n",
    "        video_titles.append(title)\n",
    "\n",
    "    avg_likes = round(total_likes / total_videos if total_videos > 0 else 0)\n",
    "    avg_comments = round(total_comments / total_videos if total_videos > 0 else 0)\n",
    "    eng_rate = round(((avg_likes+avg_comments)*100) / details[\"viewCount\"], 4)\n",
    "\n",
    "    publish_date = details[\"publishedAt\"]\n",
    "    date_obj = datetime.strptime(publish_date[:10], '%Y-%m-%d')\n",
    "    current_date = datetime.now()\n",
    "    total_months = (current_date.year - date_obj.year) * 12 + (current_date.month - date_obj.month)\n",
    "    upload_frequency = round(details[\"videoCount\"] / total_months)\n",
    "\n",
    "    output_dict[index] = {\n",
    "        \"Channel Name\": details[\"title\"],\n",
    "        \"Subscribers\": details[\"subscriberCount\"],\n",
    "        \"Total Views\": details[\"viewCount\"],\n",
    "        \"Average Likes\": avg_likes,\n",
    "        \"Average Comments\": avg_comments,\n",
    "        \"Engagement Rate\": eng_rate,\n",
    "        \"Upload Frequency\": upload_frequency,\n",
    "        \"Video Titles\": video_titles,\n",
    "    }\n",
    "    \n",
    "    # to show each video title in seperate column \n",
    "    # for i, title in enumerate(video_titles, start=1):\n",
    "    #     output_dict[index][f\"Video({i}) Title\"] = title"
   ]
  },
  {
   "cell_type": "code",
   "execution_count": 69,
   "id": "fbd712ff",
   "metadata": {},
   "outputs": [],
   "source": [
    "# The average of likes, comments calculated within the query limit (So actual results may be vary)\n",
    "# The formula used for calculating engagement rate = [(Average_Likes + Average_Comments)*100] / Total_Views_Of_Channel\n",
    "# The Uploads frequency is calculated as Video Uploads Per Month"
   ]
  },
  {
   "cell_type": "code",
   "execution_count": 70,
   "id": "55035e38",
   "metadata": {
    "scrolled": true
   },
   "outputs": [
    {
     "name": "stdout",
     "output_type": "stream",
     "text": [
      "{1: {'Channel Name': 'Spreading Gyan', 'Subscribers': 4480000, 'Total Views': 335350998, 'Average Likes': 6465, 'Average Comments': 1606, 'Engagement Rate': 0.0024, 'Upload Frequency': 5, 'Video Titles': ['Youtube Channel Kaise Banaye | youtube channel kaise banaen 2025 | How To Create A Youtube Channel', '🤬 Reply To HATERS', 'सब खत्म 😭 2 Community Guidelines Strike ek sath aaya | Channel Delete हो जाएगा मेरा | Please HELP', '🎥 Copyright-Free Shorts से पैसे कैसे कमाएँ? | Reused Content को Monetize करें सही तरीके से!', 'How To Open Demat Account | How To Open Trading Account | Demat Account Kaise Khole', '🔴Live Proof 👉1 Views पर  ₹1 😱 Kitne View Par Kitna Paisa Milta Hai #shorts #spreadinggyan #earning', 'SUBSCRIBERS की बारिश 😲Shorts का New Channel बनाकर Grow करना है तो ये Trick लगाओ || 7 दिन मे VIRAL', '😱\"पहला Shorts डालते ही आया Growth? 📈 ऐसी Strategy आजमाओ और Channel Grow करो | Spreading Gyan', '😱आपके YouTube CHANNEL का SETTING ही गड़बड़ है, इसलिए ❌️VIEWS ❌️SUBSCRIBER नही आ रहे ? Spreading Gyan', '😱अगर 90 दीन मे ❌️1000 SUBSCRIBER ❌️10M VIEWS पूरा नही हुआ तो क्या करना होगा ? Youtube Shorts Policy']}, 2: {'Channel Name': 'We Make Creators', 'Subscribers': 1130000, 'Total Views': 128358844, 'Average Likes': 638, 'Average Comments': 184, 'Engagement Rate': 0.0006, 'Upload Frequency': 16, 'Video Titles': ['Live Channel Checking || Friday Special Live Channel Checking || Channel Promotion', 'Live Channel Checking || Friday Special Live Channel Checking || Channel Promotion', '2025 में Viral होने वाले Niche || पैसा और Views भर भर कर आयेगा || Top 3 Viral Niche Ideas of 2025', 'Seo से Viral करे Shorts Video || Shorts Video Seo kaise kare || Youtube Shorts SEO 2025 Tutorials', 'सबसे Fast Grow होने वाले Shorts Channel Ideas ll Top 10 Shorts Channel Ideas ll Grow Shorts Channel', 'कोई भी Video बस 24 Hour में Viral करे || How to Viral YouTube Video In our Niche - Viral secrets', 'सबका Channel Checking होगा || LIVE Channel Checking || Live Channel Checking And Free Promotion', '90 Days में कोई भी Channel Grow करो || How To Grow Channel In 90 Days || 10 Pro Tips For Youtuber', 'JioHotstar Domain वाले बच्चो कि Real Story || 2 Smart Kids Vs JioHotstar || Jainam & Jivika Podcast', '10K Followers से Rs 50,000 Earn करे || Instagram Se Paise kaise Kamaye || How To Grow On Instagram']}, 3: {'Channel Name': 'Manoj Dey', 'Subscribers': 7010000, 'Total Views': 1001951068, 'Average Likes': 9005, 'Average Comments': 2834, 'Engagement Rate': 0.0012, 'Upload Frequency': 17, 'Video Titles': ['Long से ज़्यादा पैसा Shorts में 😱 Live Earning Proof | 100K Shorts Views = कितना पैसा ?', 'Complete 1000 Subscribers & 4000 Watchtime in Just 30 Days | New Trick | 100% Working', 'मेरा Monetisation Disabled हो गया 😭 अब Paisa नहीं आयेगा 🙏🏻', 'Good News | Facebook Content Monetisation सबको मिल रहा है 🤩 Facebook Monetisation Big Update🔥', 'Youtube की मनमानी 🤬 Anurag Dwivedi Got 3 Strikes !!', 'ये गलती मत करना Channel Monetise नहीं होगा !! Reused Content Policy 2025', 'Mercedes कितने की पड़ी ? पढ़ाई करे या Youtube ? QNA', 'Sourav Joshi Reality ? Exposed || 5 Cr का Car Collection 🤡', 'इससे अच्छा कोई Mic नहीं ! Dji Wireless Mic For YouTube Videos 🔥', 'Auto-Dubbed क्या है ? कैसे Enable करे ? New Update 2025 🔥']}, 4: {'Channel Name': 'Skillsiya', 'Subscribers': 970000, 'Total Views': 69710221, 'Average Likes': 2557, 'Average Comments': 76, 'Engagement Rate': 0.0038, 'Upload Frequency': 5, 'Video Titles': ['This FREE AI Tool Changed How You Learn Forever 🔥 | NotebookLM Full Tutorial', 'Top 6 High Paying AI-Proof Tech Skills | 97 Million Jobs Coming By 2030🔥', 'Google 10+ FREE AI Courses 🔥 | FREE Certificates & Cash Rewards, Gifts 🎁', '5 High-Paying Skills for 6-Figure Income (No Degree Required!)', 'ये 6 Best Computer Courses जीवन बदल देंगी ! 2025 | After 10th & 12th | सबसे अधिक Salary', '🔥 FREE 35,000+ Internship LIVE! | Stipend ₹3.6 Lakh + Job Offer – Biggest Fair, Don’t Miss!', '🔥 ISRO Free Python Course with Certification | Master Python, AI & ML | Don’t Miss🚀', 'Cyber Security Expert FREE में कैसे बने? | Google, IBM, TATA Job Ready Courses 🔥 (2025)', 'FREE Online Courses ✅ Get Certified & Job-Ready in 2025!', 'ये 7 High-Value Skills ज़िंदगी बदल देगी! | Everyone Must-Learn in AI Era 2025']}, 5: {'Channel Name': 'Learn With Lokesh Lalwani', 'Subscribers': 1320000, 'Total Views': 59583787, 'Average Likes': 5317, 'Average Comments': 631, 'Engagement Rate': 0.01, 'Upload Frequency': 6, 'Video Titles': ['Help business to create content using AI 🚀', 'Earn Second Salary by running a Faceless YouTube channel 🚀', 'Earn upto Rs. 2000 using AI  🔥', 'Earn upto Rs. 1794 per day as Second Salary in 2025 🚀', 'Smartest way to earn upto Rs. 1350 per day as Second Salary in 2025 🚀', 'Earn upto Rs. 900 per day as Second Salary in 2025 🚀🚀', 'Part Time Trick to Earn upto ₹450 per hour from Home in 2025 🔥📈', '#1 Excel trick to earn upto Rs. 1299 per project as Second Salary in 2025 🚀', 'SALES JOB to DATA ANALYST 🚀 earning 💸💸 LPA', 'Smartest way to earn upto Rs. 1739 per day as Second Salary in 2025 🚀']}, 6: {'Channel Name': 'Upcoming World', 'Subscribers': 1500000, 'Total Views': 312960790, 'Average Likes': 360, 'Average Comments': 34, 'Engagement Rate': 0.0001, 'Upload Frequency': 8, 'Video Titles': ['Instagram Verification Badge Only ₹45 | Instagram Par 45 Rupees Me Blue Tick Kaise Lagaye 2025', 'Instagram Par Professional Dashboard Kaise Hataye |How To Delete Professional Dashboard On Instagram', 'Instagram Blend Feature Kya Hai ? | How to Use Instagram Blend | What is Instagram Blend Use ?', 'What is Edits On Instagram App | How to Edit Reels Videos On Instagram Edits App | Edits App Launch', 'How To Change Instagram Password 2025 | Instagram Password Change Kaise Kare', 'Facebook Account Delete Kaise Kare | How To Delete Facebook Account Permanently | Fb id delete Kaise', 'Blend On Instagram | What is Instagram Blend | How to use Instagram Blend works ?', 'Whatsapp status me photo ke sath song kaise lagaye | add music with photo in whatsapp status 2025', 'facebook ka password kaise pata kare | facebook password kaise pata kare apna | fb password change', 'UNLOCK THIS FROM REEL DESIGN | Instagram New Feature Lock Reel | Reel Lock On Instagram New Update']}, 7: {'Channel Name': 'SJ SEARCHING', 'Subscribers': 777000, 'Total Views': 8071043, 'Average Likes': 155, 'Average Comments': 33, 'Engagement Rate': 0.0023, 'Upload Frequency': 5, 'Video Titles': ['SuperFast Trick | Instagram Followers Kaise Badhaye | Instagram Par Followers Kaise Badhaye 2025', 'Instagram Follower Kaise Badhaye | instagram Par Followers Kaise Badhaye | Free instagram followers', 'Instagram Follower Kaise Badhaye | Instagram Par Followers Kaise Badhaye | Free instagram Followers', 'Instagram Follower Kaise Badhaye | Instagram Par Followers Kaise Badhaye | Free Instagram Followers', 'Instagram follower kaise badhaye | instagram Par followers Kaise badhaye | Free Instagram Followers', 'Instagram follower Kaise Badhaye | Instagram Par Followers Kaise Badhaye | Free instagram followers', 'Instagram Follower Kaise Badhaye 2025 | Instagram Par Followers Kaise Badhaye | Instagram Followers', 'Instagram Follower Kaise Badhaye | Instagram Par Followers Kaise Badhaye | Free Instagram Followers', 'Instagram follower kaise Badhaye | instagram par Followers Kaise Badhaye | Free Instagram Followers', 'Instagram Follower Kaise Badhaye | Instagram Par Followers Kaise Badhaye | Free instagram Followers']}, 8: {'Channel Name': 'SOCIALEPFO', 'Subscribers': 1670000, 'Total Views': 12697734, 'Average Likes': 89, 'Average Comments': 1, 'Engagement Rate': 0.0007, 'Upload Frequency': 9, 'Video Titles': ['Avail EPFO services through the UMANG app using your smart devices.', 'Income Tax Provisions on EPF | Part 3 - Form 15G/15H', 'EPFO QUIZ TIME', 'EPFO Quiz Time', 'Nidhi Aapke Nikat 2.0 Camp | Goa', 'Nidhi Aapke Nikat 2.0 Camps Glimpses', 'Live Session on \"EPF Claims: Types & Processes and UAN Allotment & Activation Using UMANG App\"', 'Nidhi Aapke Nikat 2.0 camp | Mumbai Suburban, Maharashtra', 'Modify Date of Joining/Exit in EPF Account Hassle-free', \"Income Tax Provisions on EPF | Part 2 - Employee's Contribution\"]}, 9: {'Channel Name': 'Sarkari DNA', 'Subscribers': 3730000, 'Total Views': 568982218, 'Average Likes': 824, 'Average Comments': 66, 'Engagement Rate': 0.0002, 'Upload Frequency': 17, 'Video Titles': ['PM Awas Yojana Gramin List 2025 Kaise Dekhein | Naam Check Karein & List Download Karein', 'PM Awas Yojana Gramin Survey Online Form 2025 | pm awas gramin online apply 2025 | pm awas gramin', 'Angel One Account Opening 2025 | angel broking account opening | angel one app account kaise banaye', 'E Shram Card Kaise Banaye 2025 | e shram card online apply | e shram card registration online 2025', 'Best Zero Balance Bank Account in 2025|| Zero Balance Bank Account Opening Online', 'New voter id card kaise banaye 2025 | Voter Card New Portal | Mobile se voter card kaise apply kare', 'Aadhar card me mobile no link kaise kare 2025 | How to Link Mobile Number to Aadhar Card | uidai', 'PVC Voter Card order Online 2025 | Voter Card ghar kaise mangaye | Voter Card apply online', 'CSC id registration 2025 | csc id kaise banaye | csc center kaise khole | csc id kaise milega', 'PAN Card Correction Online 2025 | PAN 2.0 | पैन कार्ड में संशोधन ऐसे करे | PAN Card 2025 Correction']}, 10: {'Channel Name': 'WorkerVoice.in', 'Subscribers': 1230000, 'Total Views': 107504066, 'Average Likes': 514, 'Average Comments': 83, 'Engagement Rate': 0.0006, 'Upload Frequency': 12, 'Video Titles': ['Sahara India ka Paisa Kab Milega और प्राईवेट कर्मचारी का नौकरी से जुड़ा सवाल फोन on Sunday Live', 'Sahara India Ka Paisa Milega ki Nahin, सहारा पोर्टल पर अब क्लेम करें या नहीं | आपके अहम सवाल का जबाव', 'Sahara India Refund payment मिला कि नहीं जब रिक्लेम किया, Sahara India Payment Ke Bare Mein जानकारी', 'Central Government Security Guard Salary अब 27 हजार से भी ज्यादा मिलेगा, Private Security Guard News', 'Sahara India Portal रिफंड नहीं मिला, Canara Bank में कितना सैलरी मिलना चाहिए Worker Voice Live', 'Kishan Fasal Muavja 2025 विरोध प्रदर्शन, अनुमंडल कृषि पदाधिकारी के सामनेसुरजीत शामिल ने रखा यह मांग', 'Kisan ko Muavja Kaise Milega - किसानों का फसल नुकसान मुआवजा, पटोरी कृषि पदाधिकारी ने कहा?', 'Sahara India ka Paisa और प्राईवेट कर्मचारी का नौकरी से जुड़ा सवाल फोन Live on Sunday @WorkerVoice', 'Sahara India Ka Paisa पाने का बेहतरीन मौका, मोदी जी के चुनाव से पहले यह करें | Sahara Refund 2025', 'Minimum Wages in Delhi April 2025 मंहगाई भत्ता खुशखबरी, दिल्ली सरकार प्राइवेट कर्मचारी सैलरी बढ़ोतरी?']}, 11: {'Channel Name': 'Anurag Aggarwal: Business Coach', 'Subscribers': 5240000, 'Total Views': 1973396673, 'Average Likes': 65593, 'Average Comments': 305, 'Engagement Rate': 0.0033, 'Upload Frequency': 7, 'Video Titles': ['Kill your loan fast | Anurag Aggarwal | In Hindi #loan', 'Ultimate Guide To Health Insurance 2025 | Anurag Aggarwal | In Hindi #healthinsurance', 'Top 10 selling cars (Jan 2025) | Anurag Aggarwal | #top10 #cars #2025', 'Top 10 stock exchanges worldwide | Anurag Aggarwal | #top10 #stockmarket', 'Top 5 pharma companies by market cap | Anurag Aggarwal | #top10 #vs', 'Top 10 car companies | Anurag Aggarwal', 'Name countries that start and end with same letter | Anurag Aggarwal', 'Top 10 peaceful countries in 2024 | Anurag Aggarwal', 'Top 10 Greatest Men of all Times | Anurag Aggarwal', 'Zerodha VS Fyers VS Dhan | Anurag Aggarwal']}, 12: {'Channel Name': 'CA Rahul Malodia: Business Coach', 'Subscribers': 6590000, 'Total Views': 1044360611, 'Average Likes': 25195, 'Average Comments': 224, 'Engagement Rate': 0.0024, 'Upload Frequency': 16, 'Video Titles': ['एक गलती कैसे Business को पड़ती है भारी ! #shorts #trending #startups', 'The Real Story of Groww | From Zero to ₹70,000 Crore Empire | Case Study', 'Stock Market का हाल बेहाल! #shorts #stockmarket #stocks', 'अब घूमने के भी सरकार देगी पैसे !  #onlineearning #travel #traveling', 'Ram Mandir, Waqf Board, Babri Masjid & Bulldozer Baba Ft. Shantanu Gupta #shorts', 'Adani group को तोड़ने की साजिश हुई Fail ! #adanigroup #adani', 'BlinkIT बना Zomato के लिए वरदान? #shorts #swiggy #trending', 'आखिर कैसे होती है Films की marketing ? कैसे बनती है Film Superhit? #films #movies #trending', 'अब चुप नहीं बैठेगा India !  | Pahalgam Terror Attack #pahalgam #pahalgamattack', 'HUL vs Honasa: Brand War! #shorts #trending #unilever']}, 13: {'Channel Name': 'Dr Ujjwal Patni Business coach', 'Subscribers': 6760000, 'Total Views': 473135993, 'Average Likes': 1357, 'Average Comments': 23, 'Engagement Rate': 0.0003, 'Upload Frequency': 6, 'Video Titles': ['Cobra Effect | सांप लाओ, पैसा पाओ | Dr Ujjwal Patni', 'Shocking fraud ? Gpay, PhonePe, Paytm, Digital arrest, ठगी से कैसे  बचें? Dr Ujjwal Patni', 'सोना लोगे\\xa0या\\xa0पानी? Dr Ujjwal Patni', 'गुटखा-तंबाकू खाते ही नौकरी\\xa0जाएगी | Dr Ujjwal Patni', 'How to sell your talent ? अपनी कीमत कैसे बढायें? Dr\\xa0Ujjwal\\xa0Patni', 'रहस्य! भगवान से अपना काम कैसे करायें? Dr Ujjwal Patni', 'अपनी असली ताकत को कैसे पहचानें? Dr Ujjwal Patni', 'सबको करना चाहिए BABA\\xa0TEST | Dr Ujjwal Patni', \"The Price of Ambition: Lessons from Blusmart's Downfall\", 'आज से SALES बंद | Dr Ujjwal\\xa0Patni']}, 14: {'Channel Name': 'Biz Tak', 'Subscribers': 1960000, 'Total Views': 948174415, 'Average Likes': 263, 'Average Comments': 22, 'Engagement Rate': 0.0, 'Upload Frequency': 360, 'Video Titles': ['India-Pakistan युद्ध हुआ तो कितना सुरक्षित है आपका पोर्टफोलियो? | Fayde Ke Fund | BIZ Tak', 'Share Market का असली बॉस कौन, FII या DII? | Hisab Kitab | BIZ Tak', 'Gold की तेज़ी पर ब्रेक, Uttar Pradesh मे गिरे भाव! | BIZ Tak', 'Share Market के लिए अगला हफ्ता धमाकेदार! आएगा तूफान या बनेगा नया हाई? | Market Next Week | BIZ Tak', 'Warren Buffet की Warning, क्या डूबेगा Dollar? | Donald Trump | BIZ Tak', 'Warren Buffet ने लिया रिटायरमेंट! कौन होगा Berkshire Hathway का नया CEO? | BIZ Tak', 'Mutual Funds ने April में दिया 7% तक का रिटर्न, निवेशक मालामाल! | BIZ Tak', 'India ने चल दी आखिरी चाल, Pakistan पूरी तरह बर्बाद! | BIZ Tak', 'SBI Q4FY25 Result: 10% गिरा मुनाफा, Share का क्या होगा? | BIZ Tak', 'SIP शुरू करने का सही समय! ये 3 Mutual Funds कराएंगे दमदार कमाई? | Fayde Ke Fund | BIZ Tak']}, 15: {'Channel Name': 'CA Rachana Phadke Ranade', 'Subscribers': 5230000, 'Total Views': 310025611, 'Average Likes': 1480, 'Average Comments': 167, 'Engagement Rate': 0.0005, 'Upload Frequency': 7, 'Video Titles': ['Where to Invest Rs 10 Lakhs Now? | Investment Strategies | CA Rachana Ranade', 'Where are FIIs Investing? | Nifty Levels | CA Rachana Ranade', 'India | Pakistan | Impact on Stock Market | Analyzing Past Trends | CA Rachana Ranade', 'Gold Outlook 2025 | Is this the Right Time to Buy Gold? | CA Rachana Ranade', \"Investor's Favourite Mutual Fund Type in 2025 |  CA Rachana Ranade\", 'Top 5 Reasons Why This Rally Could Sustain | CA Rachana Ranade', 'Nifty Above 23,800: What’s Next? | CA Rachana Ranade', 'Why do we make Dumb Investing Decisions? |  Behavioural Finance |  CA Rachana Ranade', 'Bengaluru LIVE  Event: Important announcement | CA Rachana Ranade', 'When the Boss Leaves for Bengaluru... 🥺 | Har Ghar Investor | CA Rachana Ranade #shorts']}, 16: {'Channel Name': 'NDTV Profit', 'Subscribers': 1250000, 'Total Views': 374302739, 'Average Likes': 13, 'Average Comments': 1, 'Engagement Rate': 0.0, 'Upload Frequency': 421, 'Video Titles': ['Watch LIVE: WAVES Summit In Mumbai | Aamir Khan LIVE |  Marya LIVE', \"How THIS Ace Investor Beat Warren Buffett's Returns For 3 Decades\", 'Watch LIVE: WAVES Summit In Mumbai | Sanjay Pugalia LIVE', 'BluSmart Drivers Protest Against Suspension Of Fleet', \"SBI's CS Setty on Banking Boom & Core Sector Challenges, Impact Of Tariffs, And More\", \"'Indian Commodity Market Has To Develop More For Emerging Products': MCX's Praveena Rai\", \"'Millions Need To Be Aware Of AI': Ronnie Screwvala On Bringing Courses In AI And Machine Learning\", \"Value Or Luxury Food At Single Or Group Serve: What Is Rebel Foods' 2x2 Matrix Business Model?\", 'Jaydeep Burman On Missing Kolkata Rolls And The Idea Of Starting A Store | Rebel Foods', \"'Significant Participation From DIIs Are Providing Stability To The Markets': HDFC's Navneet Munot\"]}, 17: {'Channel Name': 'bekifaayati', 'Subscribers': 1870000, 'Total Views': 549948196, 'Average Likes': 4696, 'Average Comments': 50, 'Engagement Rate': 0.0009, 'Upload Frequency': 18, 'Video Titles': ['GST on UPI Transactions', '2 FREE Flight Tickets || Best Travel Credit Card', 'Best HDFC Credit Card ||  HDFC Credit Card - Best in 2025', 'Should You Rent or Buy a House? What Makes More Sense in 2025', 'Pay 2X for your Car', 'Challan Kat Gaya', 'SIP ka Sacch', 'Home Loan Prepayment Penalty', 'Car Modification Rules', 'BEST Health Insurance Plans 2025 : Niva Bupa Health Insurance vs HDFC Ergo Optima Secure']}, 18: {'Channel Name': 'Money9', 'Subscribers': 1790000, 'Total Views': 205920036, 'Average Likes': 186, 'Average Comments': 12, 'Engagement Rate': 0.0001, 'Upload Frequency': 445, 'Video Titles': ['Cibil Score कम होने के बावजूद ऐसे मिलेगा Personal Loan, जान लें तरीका', 'Right Time to Withdrawal Provident Fund | कब निकालना चाहिए Provident Fund? | Money9', 'PPF अकाउंट से समय से पहले निकाल सकते हैं ऐसे पैसा, जानिए क्या है पैसे निकालने के 2 आसान तरीके?', 'Thar | Thar Roxx | Scorpio | Maruti Suzuki | Tata Motors | Hyundai | Mahindra क\\u200dिसने क\\u200dितनी की सेल?', \"Chris Wood's Prediction on stock Market : US Share Market नहीं, Indian Stock Market पर खेला दांव!\", 'HAL, BEL, BDL, Mazagon Dock, HUL, ITC, Cipla, Sun Pharma, Infosys, TCS, HCL Share में क्या करें?', 'Mutual Fund Investment Strategy 2025 | आसमान से गिरे खजूर पर अटके, इस साल नहीं बन पाएगा पैसा?', 'Adani Greens Share Price | Adani Greens के क्या हैं Long Term और Short Term Plan?', 'SBI, Coal India, Canara Bank, Kalyan Jewellers, Titan, Paytm क्यों रहेंगे फोकस में? Market Masala', 'FIIs vs DIIs | FIIs Selling | FIIs Buying : अब भारतीय बाजार पर चलेगा DIIs का राज | LIC | LIC News']}, 19: {'Channel Name': 'Invest Aaj For Kal', 'Subscribers': 3010000, 'Total Views': 709634335, 'Average Likes': 2584, 'Average Comments': 32, 'Engagement Rate': 0.0004, 'Upload Frequency': 21, 'Video Titles': ['How many times your data is being hacked? Financial loss', 'Stocks buy at 40% discount', 'Operator stock pata karne ki trick', 'NRI Demat account opening - Step by Step process | NRI (Non resident Indian) Demat account opening', '50000 Rs per girl child', '5000 Rs per month | Skill vs marks', 'Bitcoin, Nifty, Gold - Analysis | Stock market crash again? |', 'Car sale pe 2 lakh Rs loss', 'Ather Energy IPO | Will It Ride India’s EV Growth? | Price, Anchor book and Details |', 'India vs Pakistan War - Stock market history']}, 20: {'Channel Name': 'Dear Sir', 'Subscribers': 20300000, 'Total Views': 2027000807, 'Average Likes': 4598, 'Average Comments': 262, 'Engagement Rate': 0.0002, 'Upload Frequency': 11, 'Video Titles': ['ERROR DETECTION & CORRECTION CUET | IN ENGLISH GRAMMAR | CONCEPT/RULES/PRACTICE/LEARN | CUET 2025', 'CUET/GAT MOST EXPECTED QUESTIONS | MOST IMPORTANT QUESTIONS | SCORE 100% NOW', 'FOREIGN WORDS | CUET', 'ONE SHOT FOR CUET | FULL REVISION', '🔥 CUET FREE MOCKS 🔥 | WELL RESEARCHED SET OF QUESTIONS & ANSWERS | TARGET FULL MARKS', 'VOCAB BOOSTER | LEARN 1000 VOCAB | CUET | VOCABULARY/WORDS/ENGLISH | CUET/SSC/UPSC', '2025 CUET/GAT | QUESTIONS/STATEMENT & CONCLUSION/SITTING ARRANGEMENT/RANKING/SEQUENCE & SERIES', 'English Vocab Booster 🔥 by @DearSir | #shorts #vocabulary #cuetenglish', 'DIRECT AND INDIRECT SPEECH CUET | IN ENGLISH GRAMMAR | CONCEPT/RULES/PRACTICE/LEARN | CUET 2025', \"because it's against humanity 😞 #pahalgamattack #kashmir #\"]}}\n"
     ]
    }
   ],
   "source": [
    "print(output_dict)"
   ]
  },
  {
   "cell_type": "code",
   "execution_count": 71,
   "id": "259815ef",
   "metadata": {
    "scrolled": true
   },
   "outputs": [
    {
     "name": "stdout",
     "output_type": "stream",
     "text": [
      "{5: {'Channel Name': 'Learn With Lokesh Lalwani', 'Subscribers': 1320000, 'Total Views': 59583787, 'Average Likes': 5317, 'Average Comments': 631, 'Engagement Rate': 0.01, 'Upload Frequency': 6, 'Video Titles': ['Help business to create content using AI 🚀', 'Earn Second Salary by running a Faceless YouTube channel 🚀', 'Earn upto Rs. 2000 using AI  🔥', 'Earn upto Rs. 1794 per day as Second Salary in 2025 🚀', 'Smartest way to earn upto Rs. 1350 per day as Second Salary in 2025 🚀', 'Earn upto Rs. 900 per day as Second Salary in 2025 🚀🚀', 'Part Time Trick to Earn upto ₹450 per hour from Home in 2025 🔥📈', '#1 Excel trick to earn upto Rs. 1299 per project as Second Salary in 2025 🚀', 'SALES JOB to DATA ANALYST 🚀 earning 💸💸 LPA', 'Smartest way to earn upto Rs. 1739 per day as Second Salary in 2025 🚀']}, 4: {'Channel Name': 'Skillsiya', 'Subscribers': 970000, 'Total Views': 69710221, 'Average Likes': 2557, 'Average Comments': 76, 'Engagement Rate': 0.0038, 'Upload Frequency': 5, 'Video Titles': ['This FREE AI Tool Changed How You Learn Forever 🔥 | NotebookLM Full Tutorial', 'Top 6 High Paying AI-Proof Tech Skills | 97 Million Jobs Coming By 2030🔥', 'Google 10+ FREE AI Courses 🔥 | FREE Certificates & Cash Rewards, Gifts 🎁', '5 High-Paying Skills for 6-Figure Income (No Degree Required!)', 'ये 6 Best Computer Courses जीवन बदल देंगी ! 2025 | After 10th & 12th | सबसे अधिक Salary', '🔥 FREE 35,000+ Internship LIVE! | Stipend ₹3.6 Lakh + Job Offer – Biggest Fair, Don’t Miss!', '🔥 ISRO Free Python Course with Certification | Master Python, AI & ML | Don’t Miss🚀', 'Cyber Security Expert FREE में कैसे बने? | Google, IBM, TATA Job Ready Courses 🔥 (2025)', 'FREE Online Courses ✅ Get Certified & Job-Ready in 2025!', 'ये 7 High-Value Skills ज़िंदगी बदल देगी! | Everyone Must-Learn in AI Era 2025']}, 11: {'Channel Name': 'Anurag Aggarwal: Business Coach', 'Subscribers': 5240000, 'Total Views': 1973396673, 'Average Likes': 65593, 'Average Comments': 305, 'Engagement Rate': 0.0033, 'Upload Frequency': 7, 'Video Titles': ['Kill your loan fast | Anurag Aggarwal | In Hindi #loan', 'Ultimate Guide To Health Insurance 2025 | Anurag Aggarwal | In Hindi #healthinsurance', 'Top 10 selling cars (Jan 2025) | Anurag Aggarwal | #top10 #cars #2025', 'Top 10 stock exchanges worldwide | Anurag Aggarwal | #top10 #stockmarket', 'Top 5 pharma companies by market cap | Anurag Aggarwal | #top10 #vs', 'Top 10 car companies | Anurag Aggarwal', 'Name countries that start and end with same letter | Anurag Aggarwal', 'Top 10 peaceful countries in 2024 | Anurag Aggarwal', 'Top 10 Greatest Men of all Times | Anurag Aggarwal', 'Zerodha VS Fyers VS Dhan | Anurag Aggarwal']}, 1: {'Channel Name': 'Spreading Gyan', 'Subscribers': 4480000, 'Total Views': 335350998, 'Average Likes': 6465, 'Average Comments': 1606, 'Engagement Rate': 0.0024, 'Upload Frequency': 5, 'Video Titles': ['Youtube Channel Kaise Banaye | youtube channel kaise banaen 2025 | How To Create A Youtube Channel', '🤬 Reply To HATERS', 'सब खत्म 😭 2 Community Guidelines Strike ek sath aaya | Channel Delete हो जाएगा मेरा | Please HELP', '🎥 Copyright-Free Shorts से पैसे कैसे कमाएँ? | Reused Content को Monetize करें सही तरीके से!', 'How To Open Demat Account | How To Open Trading Account | Demat Account Kaise Khole', '🔴Live Proof 👉1 Views पर  ₹1 😱 Kitne View Par Kitna Paisa Milta Hai #shorts #spreadinggyan #earning', 'SUBSCRIBERS की बारिश 😲Shorts का New Channel बनाकर Grow करना है तो ये Trick लगाओ || 7 दिन मे VIRAL', '😱\"पहला Shorts डालते ही आया Growth? 📈 ऐसी Strategy आजमाओ और Channel Grow करो | Spreading Gyan', '😱आपके YouTube CHANNEL का SETTING ही गड़बड़ है, इसलिए ❌️VIEWS ❌️SUBSCRIBER नही आ रहे ? Spreading Gyan', '😱अगर 90 दीन मे ❌️1000 SUBSCRIBER ❌️10M VIEWS पूरा नही हुआ तो क्या करना होगा ? Youtube Shorts Policy']}, 12: {'Channel Name': 'CA Rahul Malodia: Business Coach', 'Subscribers': 6590000, 'Total Views': 1044360611, 'Average Likes': 25195, 'Average Comments': 224, 'Engagement Rate': 0.0024, 'Upload Frequency': 16, 'Video Titles': ['एक गलती कैसे Business को पड़ती है भारी ! #shorts #trending #startups', 'The Real Story of Groww | From Zero to ₹70,000 Crore Empire | Case Study', 'Stock Market का हाल बेहाल! #shorts #stockmarket #stocks', 'अब घूमने के भी सरकार देगी पैसे !  #onlineearning #travel #traveling', 'Ram Mandir, Waqf Board, Babri Masjid & Bulldozer Baba Ft. Shantanu Gupta #shorts', 'Adani group को तोड़ने की साजिश हुई Fail ! #adanigroup #adani', 'BlinkIT बना Zomato के लिए वरदान? #shorts #swiggy #trending', 'आखिर कैसे होती है Films की marketing ? कैसे बनती है Film Superhit? #films #movies #trending', 'अब चुप नहीं बैठेगा India !  | Pahalgam Terror Attack #pahalgam #pahalgamattack', 'HUL vs Honasa: Brand War! #shorts #trending #unilever']}, 7: {'Channel Name': 'SJ SEARCHING', 'Subscribers': 777000, 'Total Views': 8071043, 'Average Likes': 155, 'Average Comments': 33, 'Engagement Rate': 0.0023, 'Upload Frequency': 5, 'Video Titles': ['SuperFast Trick | Instagram Followers Kaise Badhaye | Instagram Par Followers Kaise Badhaye 2025', 'Instagram Follower Kaise Badhaye | instagram Par Followers Kaise Badhaye | Free instagram followers', 'Instagram Follower Kaise Badhaye | Instagram Par Followers Kaise Badhaye | Free instagram Followers', 'Instagram Follower Kaise Badhaye | Instagram Par Followers Kaise Badhaye | Free Instagram Followers', 'Instagram follower kaise badhaye | instagram Par followers Kaise badhaye | Free Instagram Followers', 'Instagram follower Kaise Badhaye | Instagram Par Followers Kaise Badhaye | Free instagram followers', 'Instagram Follower Kaise Badhaye 2025 | Instagram Par Followers Kaise Badhaye | Instagram Followers', 'Instagram Follower Kaise Badhaye | Instagram Par Followers Kaise Badhaye | Free Instagram Followers', 'Instagram follower kaise Badhaye | instagram par Followers Kaise Badhaye | Free Instagram Followers', 'Instagram Follower Kaise Badhaye | Instagram Par Followers Kaise Badhaye | Free instagram Followers']}, 3: {'Channel Name': 'Manoj Dey', 'Subscribers': 7010000, 'Total Views': 1001951068, 'Average Likes': 9005, 'Average Comments': 2834, 'Engagement Rate': 0.0012, 'Upload Frequency': 17, 'Video Titles': ['Long से ज़्यादा पैसा Shorts में 😱 Live Earning Proof | 100K Shorts Views = कितना पैसा ?', 'Complete 1000 Subscribers & 4000 Watchtime in Just 30 Days | New Trick | 100% Working', 'मेरा Monetisation Disabled हो गया 😭 अब Paisa नहीं आयेगा 🙏🏻', 'Good News | Facebook Content Monetisation सबको मिल रहा है 🤩 Facebook Monetisation Big Update🔥', 'Youtube की मनमानी 🤬 Anurag Dwivedi Got 3 Strikes !!', 'ये गलती मत करना Channel Monetise नहीं होगा !! Reused Content Policy 2025', 'Mercedes कितने की पड़ी ? पढ़ाई करे या Youtube ? QNA', 'Sourav Joshi Reality ? Exposed || 5 Cr का Car Collection 🤡', 'इससे अच्छा कोई Mic नहीं ! Dji Wireless Mic For YouTube Videos 🔥', 'Auto-Dubbed क्या है ? कैसे Enable करे ? New Update 2025 🔥']}, 17: {'Channel Name': 'bekifaayati', 'Subscribers': 1870000, 'Total Views': 549948196, 'Average Likes': 4696, 'Average Comments': 50, 'Engagement Rate': 0.0009, 'Upload Frequency': 18, 'Video Titles': ['GST on UPI Transactions', '2 FREE Flight Tickets || Best Travel Credit Card', 'Best HDFC Credit Card ||  HDFC Credit Card - Best in 2025', 'Should You Rent or Buy a House? What Makes More Sense in 2025', 'Pay 2X for your Car', 'Challan Kat Gaya', 'SIP ka Sacch', 'Home Loan Prepayment Penalty', 'Car Modification Rules', 'BEST Health Insurance Plans 2025 : Niva Bupa Health Insurance vs HDFC Ergo Optima Secure']}, 8: {'Channel Name': 'SOCIALEPFO', 'Subscribers': 1670000, 'Total Views': 12697734, 'Average Likes': 89, 'Average Comments': 1, 'Engagement Rate': 0.0007, 'Upload Frequency': 9, 'Video Titles': ['Avail EPFO services through the UMANG app using your smart devices.', 'Income Tax Provisions on EPF | Part 3 - Form 15G/15H', 'EPFO QUIZ TIME', 'EPFO Quiz Time', 'Nidhi Aapke Nikat 2.0 Camp | Goa', 'Nidhi Aapke Nikat 2.0 Camps Glimpses', 'Live Session on \"EPF Claims: Types & Processes and UAN Allotment & Activation Using UMANG App\"', 'Nidhi Aapke Nikat 2.0 camp | Mumbai Suburban, Maharashtra', 'Modify Date of Joining/Exit in EPF Account Hassle-free', \"Income Tax Provisions on EPF | Part 2 - Employee's Contribution\"]}, 2: {'Channel Name': 'We Make Creators', 'Subscribers': 1130000, 'Total Views': 128358844, 'Average Likes': 638, 'Average Comments': 184, 'Engagement Rate': 0.0006, 'Upload Frequency': 16, 'Video Titles': ['Live Channel Checking || Friday Special Live Channel Checking || Channel Promotion', 'Live Channel Checking || Friday Special Live Channel Checking || Channel Promotion', '2025 में Viral होने वाले Niche || पैसा और Views भर भर कर आयेगा || Top 3 Viral Niche Ideas of 2025', 'Seo से Viral करे Shorts Video || Shorts Video Seo kaise kare || Youtube Shorts SEO 2025 Tutorials', 'सबसे Fast Grow होने वाले Shorts Channel Ideas ll Top 10 Shorts Channel Ideas ll Grow Shorts Channel', 'कोई भी Video बस 24 Hour में Viral करे || How to Viral YouTube Video In our Niche - Viral secrets', 'सबका Channel Checking होगा || LIVE Channel Checking || Live Channel Checking And Free Promotion', '90 Days में कोई भी Channel Grow करो || How To Grow Channel In 90 Days || 10 Pro Tips For Youtuber', 'JioHotstar Domain वाले बच्चो कि Real Story || 2 Smart Kids Vs JioHotstar || Jainam & Jivika Podcast', '10K Followers से Rs 50,000 Earn करे || Instagram Se Paise kaise Kamaye || How To Grow On Instagram']}, 10: {'Channel Name': 'WorkerVoice.in', 'Subscribers': 1230000, 'Total Views': 107504066, 'Average Likes': 514, 'Average Comments': 83, 'Engagement Rate': 0.0006, 'Upload Frequency': 12, 'Video Titles': ['Sahara India ka Paisa Kab Milega और प्राईवेट कर्मचारी का नौकरी से जुड़ा सवाल फोन on Sunday Live', 'Sahara India Ka Paisa Milega ki Nahin, सहारा पोर्टल पर अब क्लेम करें या नहीं | आपके अहम सवाल का जबाव', 'Sahara India Refund payment मिला कि नहीं जब रिक्लेम किया, Sahara India Payment Ke Bare Mein जानकारी', 'Central Government Security Guard Salary अब 27 हजार से भी ज्यादा मिलेगा, Private Security Guard News', 'Sahara India Portal रिफंड नहीं मिला, Canara Bank में कितना सैलरी मिलना चाहिए Worker Voice Live', 'Kishan Fasal Muavja 2025 विरोध प्रदर्शन, अनुमंडल कृषि पदाधिकारी के सामनेसुरजीत शामिल ने रखा यह मांग', 'Kisan ko Muavja Kaise Milega - किसानों का फसल नुकसान मुआवजा, पटोरी कृषि पदाधिकारी ने कहा?', 'Sahara India ka Paisa और प्राईवेट कर्मचारी का नौकरी से जुड़ा सवाल फोन Live on Sunday @WorkerVoice', 'Sahara India Ka Paisa पाने का बेहतरीन मौका, मोदी जी के चुनाव से पहले यह करें | Sahara Refund 2025', 'Minimum Wages in Delhi April 2025 मंहगाई भत्ता खुशखबरी, दिल्ली सरकार प्राइवेट कर्मचारी सैलरी बढ़ोतरी?']}, 15: {'Channel Name': 'CA Rachana Phadke Ranade', 'Subscribers': 5230000, 'Total Views': 310025611, 'Average Likes': 1480, 'Average Comments': 167, 'Engagement Rate': 0.0005, 'Upload Frequency': 7, 'Video Titles': ['Where to Invest Rs 10 Lakhs Now? | Investment Strategies | CA Rachana Ranade', 'Where are FIIs Investing? | Nifty Levels | CA Rachana Ranade', 'India | Pakistan | Impact on Stock Market | Analyzing Past Trends | CA Rachana Ranade', 'Gold Outlook 2025 | Is this the Right Time to Buy Gold? | CA Rachana Ranade', \"Investor's Favourite Mutual Fund Type in 2025 |  CA Rachana Ranade\", 'Top 5 Reasons Why This Rally Could Sustain | CA Rachana Ranade', 'Nifty Above 23,800: What’s Next? | CA Rachana Ranade', 'Why do we make Dumb Investing Decisions? |  Behavioural Finance |  CA Rachana Ranade', 'Bengaluru LIVE  Event: Important announcement | CA Rachana Ranade', 'When the Boss Leaves for Bengaluru... 🥺 | Har Ghar Investor | CA Rachana Ranade #shorts']}, 19: {'Channel Name': 'Invest Aaj For Kal', 'Subscribers': 3010000, 'Total Views': 709634335, 'Average Likes': 2584, 'Average Comments': 32, 'Engagement Rate': 0.0004, 'Upload Frequency': 21, 'Video Titles': ['How many times your data is being hacked? Financial loss', 'Stocks buy at 40% discount', 'Operator stock pata karne ki trick', 'NRI Demat account opening - Step by Step process | NRI (Non resident Indian) Demat account opening', '50000 Rs per girl child', '5000 Rs per month | Skill vs marks', 'Bitcoin, Nifty, Gold - Analysis | Stock market crash again? |', 'Car sale pe 2 lakh Rs loss', 'Ather Energy IPO | Will It Ride India’s EV Growth? | Price, Anchor book and Details |', 'India vs Pakistan War - Stock market history']}, 13: {'Channel Name': 'Dr Ujjwal Patni Business coach', 'Subscribers': 6760000, 'Total Views': 473135993, 'Average Likes': 1357, 'Average Comments': 23, 'Engagement Rate': 0.0003, 'Upload Frequency': 6, 'Video Titles': ['Cobra Effect | सांप लाओ, पैसा पाओ | Dr Ujjwal Patni', 'Shocking fraud ? Gpay, PhonePe, Paytm, Digital arrest, ठगी से कैसे  बचें? Dr Ujjwal Patni', 'सोना लोगे\\xa0या\\xa0पानी? Dr Ujjwal Patni', 'गुटखा-तंबाकू खाते ही नौकरी\\xa0जाएगी | Dr Ujjwal Patni', 'How to sell your talent ? अपनी कीमत कैसे बढायें? Dr\\xa0Ujjwal\\xa0Patni', 'रहस्य! भगवान से अपना काम कैसे करायें? Dr Ujjwal Patni', 'अपनी असली ताकत को कैसे पहचानें? Dr Ujjwal Patni', 'सबको करना चाहिए BABA\\xa0TEST | Dr Ujjwal Patni', \"The Price of Ambition: Lessons from Blusmart's Downfall\", 'आज से SALES बंद | Dr Ujjwal\\xa0Patni']}, 9: {'Channel Name': 'Sarkari DNA', 'Subscribers': 3730000, 'Total Views': 568982218, 'Average Likes': 824, 'Average Comments': 66, 'Engagement Rate': 0.0002, 'Upload Frequency': 17, 'Video Titles': ['PM Awas Yojana Gramin List 2025 Kaise Dekhein | Naam Check Karein & List Download Karein', 'PM Awas Yojana Gramin Survey Online Form 2025 | pm awas gramin online apply 2025 | pm awas gramin', 'Angel One Account Opening 2025 | angel broking account opening | angel one app account kaise banaye', 'E Shram Card Kaise Banaye 2025 | e shram card online apply | e shram card registration online 2025', 'Best Zero Balance Bank Account in 2025|| Zero Balance Bank Account Opening Online', 'New voter id card kaise banaye 2025 | Voter Card New Portal | Mobile se voter card kaise apply kare', 'Aadhar card me mobile no link kaise kare 2025 | How to Link Mobile Number to Aadhar Card | uidai', 'PVC Voter Card order Online 2025 | Voter Card ghar kaise mangaye | Voter Card apply online', 'CSC id registration 2025 | csc id kaise banaye | csc center kaise khole | csc id kaise milega', 'PAN Card Correction Online 2025 | PAN 2.0 | पैन कार्ड में संशोधन ऐसे करे | PAN Card 2025 Correction']}, 20: {'Channel Name': 'Dear Sir', 'Subscribers': 20300000, 'Total Views': 2027000807, 'Average Likes': 4598, 'Average Comments': 262, 'Engagement Rate': 0.0002, 'Upload Frequency': 11, 'Video Titles': ['ERROR DETECTION & CORRECTION CUET | IN ENGLISH GRAMMAR | CONCEPT/RULES/PRACTICE/LEARN | CUET 2025', 'CUET/GAT MOST EXPECTED QUESTIONS | MOST IMPORTANT QUESTIONS | SCORE 100% NOW', 'FOREIGN WORDS | CUET', 'ONE SHOT FOR CUET | FULL REVISION', '🔥 CUET FREE MOCKS 🔥 | WELL RESEARCHED SET OF QUESTIONS & ANSWERS | TARGET FULL MARKS', 'VOCAB BOOSTER | LEARN 1000 VOCAB | CUET | VOCABULARY/WORDS/ENGLISH | CUET/SSC/UPSC', '2025 CUET/GAT | QUESTIONS/STATEMENT & CONCLUSION/SITTING ARRANGEMENT/RANKING/SEQUENCE & SERIES', 'English Vocab Booster 🔥 by @DearSir | #shorts #vocabulary #cuetenglish', 'DIRECT AND INDIRECT SPEECH CUET | IN ENGLISH GRAMMAR | CONCEPT/RULES/PRACTICE/LEARN | CUET 2025', \"because it's against humanity 😞 #pahalgamattack #kashmir #\"]}, 6: {'Channel Name': 'Upcoming World', 'Subscribers': 1500000, 'Total Views': 312960790, 'Average Likes': 360, 'Average Comments': 34, 'Engagement Rate': 0.0001, 'Upload Frequency': 8, 'Video Titles': ['Instagram Verification Badge Only ₹45 | Instagram Par 45 Rupees Me Blue Tick Kaise Lagaye 2025', 'Instagram Par Professional Dashboard Kaise Hataye |How To Delete Professional Dashboard On Instagram', 'Instagram Blend Feature Kya Hai ? | How to Use Instagram Blend | What is Instagram Blend Use ?', 'What is Edits On Instagram App | How to Edit Reels Videos On Instagram Edits App | Edits App Launch', 'How To Change Instagram Password 2025 | Instagram Password Change Kaise Kare', 'Facebook Account Delete Kaise Kare | How To Delete Facebook Account Permanently | Fb id delete Kaise', 'Blend On Instagram | What is Instagram Blend | How to use Instagram Blend works ?', 'Whatsapp status me photo ke sath song kaise lagaye | add music with photo in whatsapp status 2025', 'facebook ka password kaise pata kare | facebook password kaise pata kare apna | fb password change', 'UNLOCK THIS FROM REEL DESIGN | Instagram New Feature Lock Reel | Reel Lock On Instagram New Update']}, 18: {'Channel Name': 'Money9', 'Subscribers': 1790000, 'Total Views': 205920036, 'Average Likes': 186, 'Average Comments': 12, 'Engagement Rate': 0.0001, 'Upload Frequency': 445, 'Video Titles': ['Cibil Score कम होने के बावजूद ऐसे मिलेगा Personal Loan, जान लें तरीका', 'Right Time to Withdrawal Provident Fund | कब निकालना चाहिए Provident Fund? | Money9', 'PPF अकाउंट से समय से पहले निकाल सकते हैं ऐसे पैसा, जानिए क्या है पैसे निकालने के 2 आसान तरीके?', 'Thar | Thar Roxx | Scorpio | Maruti Suzuki | Tata Motors | Hyundai | Mahindra क\\u200dिसने क\\u200dितनी की सेल?', \"Chris Wood's Prediction on stock Market : US Share Market नहीं, Indian Stock Market पर खेला दांव!\", 'HAL, BEL, BDL, Mazagon Dock, HUL, ITC, Cipla, Sun Pharma, Infosys, TCS, HCL Share में क्या करें?', 'Mutual Fund Investment Strategy 2025 | आसमान से गिरे खजूर पर अटके, इस साल नहीं बन पाएगा पैसा?', 'Adani Greens Share Price | Adani Greens के क्या हैं Long Term और Short Term Plan?', 'SBI, Coal India, Canara Bank, Kalyan Jewellers, Titan, Paytm क्यों रहेंगे फोकस में? Market Masala', 'FIIs vs DIIs | FIIs Selling | FIIs Buying : अब भारतीय बाजार पर चलेगा DIIs का राज | LIC | LIC News']}, 14: {'Channel Name': 'Biz Tak', 'Subscribers': 1960000, 'Total Views': 948174415, 'Average Likes': 263, 'Average Comments': 22, 'Engagement Rate': 0.0, 'Upload Frequency': 360, 'Video Titles': ['India-Pakistan युद्ध हुआ तो कितना सुरक्षित है आपका पोर्टफोलियो? | Fayde Ke Fund | BIZ Tak', 'Share Market का असली बॉस कौन, FII या DII? | Hisab Kitab | BIZ Tak', 'Gold की तेज़ी पर ब्रेक, Uttar Pradesh मे गिरे भाव! | BIZ Tak', 'Share Market के लिए अगला हफ्ता धमाकेदार! आएगा तूफान या बनेगा नया हाई? | Market Next Week | BIZ Tak', 'Warren Buffet की Warning, क्या डूबेगा Dollar? | Donald Trump | BIZ Tak', 'Warren Buffet ने लिया रिटायरमेंट! कौन होगा Berkshire Hathway का नया CEO? | BIZ Tak', 'Mutual Funds ने April में दिया 7% तक का रिटर्न, निवेशक मालामाल! | BIZ Tak', 'India ने चल दी आखिरी चाल, Pakistan पूरी तरह बर्बाद! | BIZ Tak', 'SBI Q4FY25 Result: 10% गिरा मुनाफा, Share का क्या होगा? | BIZ Tak', 'SIP शुरू करने का सही समय! ये 3 Mutual Funds कराएंगे दमदार कमाई? | Fayde Ke Fund | BIZ Tak']}, 16: {'Channel Name': 'NDTV Profit', 'Subscribers': 1250000, 'Total Views': 374302739, 'Average Likes': 13, 'Average Comments': 1, 'Engagement Rate': 0.0, 'Upload Frequency': 421, 'Video Titles': ['Watch LIVE: WAVES Summit In Mumbai | Aamir Khan LIVE |  Marya LIVE', \"How THIS Ace Investor Beat Warren Buffett's Returns For 3 Decades\", 'Watch LIVE: WAVES Summit In Mumbai | Sanjay Pugalia LIVE', 'BluSmart Drivers Protest Against Suspension Of Fleet', \"SBI's CS Setty on Banking Boom & Core Sector Challenges, Impact Of Tariffs, And More\", \"'Indian Commodity Market Has To Develop More For Emerging Products': MCX's Praveena Rai\", \"'Millions Need To Be Aware Of AI': Ronnie Screwvala On Bringing Courses In AI And Machine Learning\", \"Value Or Luxury Food At Single Or Group Serve: What Is Rebel Foods' 2x2 Matrix Business Model?\", 'Jaydeep Burman On Missing Kolkata Rolls And The Idea Of Starting A Store | Rebel Foods', \"'Significant Participation From DIIs Are Providing Stability To The Markets': HDFC's Navneet Munot\"]}}\n"
     ]
    }
   ],
   "source": [
    "# sorting based on \"Engagement Rate\"\n",
    "sorted_data = dict(sorted(output_dict.items(), key=lambda x: x[1][\"Engagement Rate\"], reverse=True))\n",
    "print(sorted_data)\n"
   ]
  },
  {
   "cell_type": "code",
   "execution_count": 72,
   "id": "07ed0b61",
   "metadata": {},
   "outputs": [],
   "source": [
    "# Output as dataframe\n",
    "output = pd.DataFrame.from_dict(sorted_data, orient=\"index\")"
   ]
  },
  {
   "cell_type": "code",
   "execution_count": 75,
   "id": "b8e0f5d0",
   "metadata": {},
   "outputs": [
    {
     "data": {
      "text/html": [
       "<div>\n",
       "<style scoped>\n",
       "    .dataframe tbody tr th:only-of-type {\n",
       "        vertical-align: middle;\n",
       "    }\n",
       "\n",
       "    .dataframe tbody tr th {\n",
       "        vertical-align: top;\n",
       "    }\n",
       "\n",
       "    .dataframe thead th {\n",
       "        text-align: right;\n",
       "    }\n",
       "</style>\n",
       "<table border=\"1\" class=\"dataframe\">\n",
       "  <thead>\n",
       "    <tr style=\"text-align: right;\">\n",
       "      <th></th>\n",
       "      <th>Channel Name</th>\n",
       "      <th>Subscribers</th>\n",
       "      <th>Total Views</th>\n",
       "      <th>Average Likes</th>\n",
       "      <th>Average Comments</th>\n",
       "      <th>Engagement Rate</th>\n",
       "      <th>Upload Frequency</th>\n",
       "      <th>Video Titles</th>\n",
       "    </tr>\n",
       "  </thead>\n",
       "  <tbody>\n",
       "    <tr>\n",
       "      <th>0</th>\n",
       "      <td>Learn With Lokesh Lalwani</td>\n",
       "      <td>1320000</td>\n",
       "      <td>59583787</td>\n",
       "      <td>5317</td>\n",
       "      <td>631</td>\n",
       "      <td>0.0100</td>\n",
       "      <td>6</td>\n",
       "      <td>[Help business to create content using AI 🚀, E...</td>\n",
       "    </tr>\n",
       "    <tr>\n",
       "      <th>1</th>\n",
       "      <td>Skillsiya</td>\n",
       "      <td>970000</td>\n",
       "      <td>69710221</td>\n",
       "      <td>2557</td>\n",
       "      <td>76</td>\n",
       "      <td>0.0038</td>\n",
       "      <td>5</td>\n",
       "      <td>[This FREE AI Tool Changed How You Learn Forev...</td>\n",
       "    </tr>\n",
       "    <tr>\n",
       "      <th>2</th>\n",
       "      <td>Anurag Aggarwal: Business Coach</td>\n",
       "      <td>5240000</td>\n",
       "      <td>1973396673</td>\n",
       "      <td>65593</td>\n",
       "      <td>305</td>\n",
       "      <td>0.0033</td>\n",
       "      <td>7</td>\n",
       "      <td>[Kill your loan fast | Anurag Aggarwal | In Hi...</td>\n",
       "    </tr>\n",
       "    <tr>\n",
       "      <th>3</th>\n",
       "      <td>Spreading Gyan</td>\n",
       "      <td>4480000</td>\n",
       "      <td>335350998</td>\n",
       "      <td>6465</td>\n",
       "      <td>1606</td>\n",
       "      <td>0.0024</td>\n",
       "      <td>5</td>\n",
       "      <td>[Youtube Channel Kaise Banaye | youtube channe...</td>\n",
       "    </tr>\n",
       "    <tr>\n",
       "      <th>4</th>\n",
       "      <td>CA Rahul Malodia: Business Coach</td>\n",
       "      <td>6590000</td>\n",
       "      <td>1044360611</td>\n",
       "      <td>25195</td>\n",
       "      <td>224</td>\n",
       "      <td>0.0024</td>\n",
       "      <td>16</td>\n",
       "      <td>[एक गलती कैसे Business को पड़ती है भारी ! #shor...</td>\n",
       "    </tr>\n",
       "  </tbody>\n",
       "</table>\n",
       "</div>"
      ],
      "text/plain": [
       "                       Channel Name  Subscribers  Total Views  Average Likes  \\\n",
       "0         Learn With Lokesh Lalwani      1320000     59583787           5317   \n",
       "1                         Skillsiya       970000     69710221           2557   \n",
       "2   Anurag Aggarwal: Business Coach      5240000   1973396673          65593   \n",
       "3                    Spreading Gyan      4480000    335350998           6465   \n",
       "4  CA Rahul Malodia: Business Coach      6590000   1044360611          25195   \n",
       "\n",
       "   Average Comments  Engagement Rate  Upload Frequency  \\\n",
       "0               631           0.0100                 6   \n",
       "1                76           0.0038                 5   \n",
       "2               305           0.0033                 7   \n",
       "3              1606           0.0024                 5   \n",
       "4               224           0.0024                16   \n",
       "\n",
       "                                        Video Titles  \n",
       "0  [Help business to create content using AI 🚀, E...  \n",
       "1  [This FREE AI Tool Changed How You Learn Forev...  \n",
       "2  [Kill your loan fast | Anurag Aggarwal | In Hi...  \n",
       "3  [Youtube Channel Kaise Banaye | youtube channe...  \n",
       "4  [एक गलती कैसे Business को पड़ती है भारी ! #shor...  "
      ]
     },
     "execution_count": 75,
     "metadata": {},
     "output_type": "execute_result"
    }
   ],
   "source": [
    "output = output.reset_index(drop=True)\n",
    "output.head()"
   ]
  },
  {
   "cell_type": "code",
   "execution_count": 76,
   "id": "33619b1b",
   "metadata": {},
   "outputs": [],
   "source": [
    "# Saving output to csv file\n",
    "output.to_csv(\"youtube_channel_analysis_output.csv\", index=False)"
   ]
  },
  {
   "cell_type": "code",
   "execution_count": null,
   "id": "83d8ca1f",
   "metadata": {},
   "outputs": [],
   "source": [
    "# Note: I only extracted limited videos per channel due to API limitations.\n",
    "# Note: Output of some \"Engagement Rate\" maybe zero because we checked only limited video & most recently uploaded."
   ]
  },
  {
   "cell_type": "markdown",
   "id": "d2879535",
   "metadata": {},
   "source": [
    "#### Github Link (Current Project): https://github.com/rohitkumar-dev/youtube-channel-analyzer\n",
    "#### Google AppScript Task Sheet Link (Email Sender): https://docs.google.com/spreadsheets/d/1V4jU-pmiDllYdOf6mpvnUWDV87aj86Yzf0MzhNvgcgE/edit?usp=sharing"
   ]
  },
  {
   "cell_type": "code",
   "execution_count": null,
   "id": "eba98625",
   "metadata": {},
   "outputs": [],
   "source": []
  }
 ],
 "metadata": {
  "kernelspec": {
   "display_name": "Python 3 (ipykernel)",
   "language": "python",
   "name": "python3"
  },
  "language_info": {
   "codemirror_mode": {
    "name": "ipython",
    "version": 3
   },
   "file_extension": ".py",
   "mimetype": "text/x-python",
   "name": "python",
   "nbconvert_exporter": "python",
   "pygments_lexer": "ipython3",
   "version": "3.12.4"
  }
 },
 "nbformat": 4,
 "nbformat_minor": 5
}
